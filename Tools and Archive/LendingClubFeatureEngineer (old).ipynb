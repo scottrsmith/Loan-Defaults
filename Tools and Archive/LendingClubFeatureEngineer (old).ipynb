{
 "cells": [
  {
   "cell_type": "markdown",
   "metadata": {},
   "source": [
    "# Feature Engineer Lending Club Data\n",
    "## Data Prep Step 2 of 2\n",
    "\n",
    "- Drop unused columns\n",
    "- Fix Data types\n",
    "- Engineering Features"
   ]
  },
  {
   "cell_type": "code",
   "execution_count": 1,
   "metadata": {},
   "outputs": [],
   "source": [
    "from __future__ import print_function \n",
    "from __future__ import division\n",
    "\n",
    "# Load in our libraries\n",
    "import pandas as pd\n",
    "import numpy as np\n",
    "import re\n",
    "import sklearn\n",
    "import seaborn as sns\n",
    "import matplotlib.pyplot as plt\n",
    "%matplotlib inline\n",
    "\n",
    "#import plotly.offline as py\n",
    "#py.init_notebook_mode(connected=True)\n",
    "#import plotly.graph_objs as go\n",
    "#import plotly.tools as tls\n",
    "import itertools\n",
    "import datetime\n",
    "\n",
    "import warnings\n",
    "warnings.filterwarnings('ignore')\n",
    "\n",
    "SEED = 42\n",
    "\n",
    "# Flag to use external features or not\n",
    "EXTERNALFEATURES = False"
   ]
  },
  {
   "cell_type": "code",
   "execution_count": 2,
   "metadata": {
    "scrolled": true
   },
   "outputs": [
    {
     "data": {
      "text/html": [
       "<div>\n",
       "<style scoped>\n",
       "    .dataframe tbody tr th:only-of-type {\n",
       "        vertical-align: middle;\n",
       "    }\n",
       "\n",
       "    .dataframe tbody tr th {\n",
       "        vertical-align: top;\n",
       "    }\n",
       "\n",
       "    .dataframe thead th {\n",
       "        text-align: right;\n",
       "    }\n",
       "</style>\n",
       "<table border=\"1\" class=\"dataframe\">\n",
       "  <thead>\n",
       "    <tr style=\"text-align: right;\">\n",
       "      <th></th>\n",
       "      <th>loan_amnt</th>\n",
       "      <th>term</th>\n",
       "      <th>int_rate</th>\n",
       "      <th>grade</th>\n",
       "      <th>emp_title</th>\n",
       "      <th>emp_length</th>\n",
       "      <th>home_ownership</th>\n",
       "      <th>annual_inc</th>\n",
       "      <th>verification_status</th>\n",
       "      <th>issue_d</th>\n",
       "      <th>...</th>\n",
       "      <th>num_tl_30dpd</th>\n",
       "      <th>num_tl_90g_dpd_24m</th>\n",
       "      <th>num_tl_op_past_12m</th>\n",
       "      <th>percent_bc_gt_75</th>\n",
       "      <th>pub_rec_bankruptcies</th>\n",
       "      <th>tax_liens</th>\n",
       "      <th>tot_hi_cred_lim</th>\n",
       "      <th>total_bal_ex_mort</th>\n",
       "      <th>total_bc_limit</th>\n",
       "      <th>total_il_high_credit_limit</th>\n",
       "    </tr>\n",
       "  </thead>\n",
       "  <tbody>\n",
       "    <tr>\n",
       "      <th>90834</th>\n",
       "      <td>8325.0</td>\n",
       "      <td>36 months</td>\n",
       "      <td>18.99</td>\n",
       "      <td>D</td>\n",
       "      <td>FoH</td>\n",
       "      <td>1 year</td>\n",
       "      <td>RENT</td>\n",
       "      <td>28100.0</td>\n",
       "      <td>Source Verified</td>\n",
       "      <td>2016-12-01</td>\n",
       "      <td>...</td>\n",
       "      <td>0.0</td>\n",
       "      <td>0.0</td>\n",
       "      <td>0.0</td>\n",
       "      <td>25.0</td>\n",
       "      <td>0.0</td>\n",
       "      <td>0.0</td>\n",
       "      <td>22579.0</td>\n",
       "      <td>8597.0</td>\n",
       "      <td>5900.0</td>\n",
       "      <td>16679.0</td>\n",
       "    </tr>\n",
       "    <tr>\n",
       "      <th>174214</th>\n",
       "      <td>10000.0</td>\n",
       "      <td>36 months</td>\n",
       "      <td>6.99</td>\n",
       "      <td>A</td>\n",
       "      <td>Pharmacy Manager</td>\n",
       "      <td>1 year</td>\n",
       "      <td>MORTGAGE</td>\n",
       "      <td>132000.0</td>\n",
       "      <td>Not Verified</td>\n",
       "      <td>2016-01-01</td>\n",
       "      <td>...</td>\n",
       "      <td>0.0</td>\n",
       "      <td>0.0</td>\n",
       "      <td>3.0</td>\n",
       "      <td>36.4</td>\n",
       "      <td>0.0</td>\n",
       "      <td>0.0</td>\n",
       "      <td>463535.0</td>\n",
       "      <td>98716.0</td>\n",
       "      <td>63200.0</td>\n",
       "      <td>113935.0</td>\n",
       "    </tr>\n",
       "    <tr>\n",
       "      <th>45453</th>\n",
       "      <td>20000.0</td>\n",
       "      <td>36 months</td>\n",
       "      <td>10.99</td>\n",
       "      <td>B</td>\n",
       "      <td>manager</td>\n",
       "      <td>6 years</td>\n",
       "      <td>RENT</td>\n",
       "      <td>70000.0</td>\n",
       "      <td>Source Verified</td>\n",
       "      <td>2016-07-01</td>\n",
       "      <td>...</td>\n",
       "      <td>0.0</td>\n",
       "      <td>0.0</td>\n",
       "      <td>0.0</td>\n",
       "      <td>0.0</td>\n",
       "      <td>0.0</td>\n",
       "      <td>0.0</td>\n",
       "      <td>49695.0</td>\n",
       "      <td>40415.0</td>\n",
       "      <td>4900.0</td>\n",
       "      <td>20795.0</td>\n",
       "    </tr>\n",
       "  </tbody>\n",
       "</table>\n",
       "<p>3 rows × 81 columns</p>\n",
       "</div>"
      ],
      "text/plain": [
       "        loan_amnt        term  int_rate grade         emp_title emp_length  \\\n",
       "90834      8325.0   36 months     18.99     D               FoH     1 year   \n",
       "174214    10000.0   36 months      6.99     A  Pharmacy Manager     1 year   \n",
       "45453     20000.0   36 months     10.99     B           manager    6 years   \n",
       "\n",
       "       home_ownership  annual_inc verification_status     issue_d  \\\n",
       "90834            RENT     28100.0     Source Verified  2016-12-01   \n",
       "174214       MORTGAGE    132000.0        Not Verified  2016-01-01   \n",
       "45453            RENT     70000.0     Source Verified  2016-07-01   \n",
       "\n",
       "                   ...             num_tl_30dpd num_tl_90g_dpd_24m  \\\n",
       "90834              ...                      0.0                0.0   \n",
       "174214             ...                      0.0                0.0   \n",
       "45453              ...                      0.0                0.0   \n",
       "\n",
       "       num_tl_op_past_12m percent_bc_gt_75  pub_rec_bankruptcies  tax_liens  \\\n",
       "90834                 0.0             25.0                   0.0        0.0   \n",
       "174214                3.0             36.4                   0.0        0.0   \n",
       "45453                 0.0              0.0                   0.0        0.0   \n",
       "\n",
       "       tot_hi_cred_lim  total_bal_ex_mort  total_bc_limit  \\\n",
       "90834          22579.0             8597.0          5900.0   \n",
       "174214        463535.0            98716.0         63200.0   \n",
       "45453          49695.0            40415.0          4900.0   \n",
       "\n",
       "        total_il_high_credit_limit  \n",
       "90834                      16679.0  \n",
       "174214                    113935.0  \n",
       "45453                      20795.0  \n",
       "\n",
       "[3 rows x 81 columns]"
      ]
     },
     "execution_count": 2,
     "metadata": {},
     "output_type": "execute_result"
    }
   ],
   "source": [
    "# Load in pre-processed data set with the \n",
    "df = pd.read_csv('LendingClub2017_2018BasicPrep.csv.gz',  compression='gzip')\n",
    "df.sample(3)"
   ]
  },
  {
   "cell_type": "code",
   "execution_count": 3,
   "metadata": {
    "scrolled": false
   },
   "outputs": [
    {
     "name": "stdout",
     "output_type": "stream",
     "text": [
      "<class 'pandas.core.frame.DataFrame'>\n",
      "RangeIndex: 178792 entries, 0 to 178791\n",
      "Data columns (total 81 columns):\n",
      "loan_amnt                         178792 non-null float64\n",
      "term                              178792 non-null object\n",
      "int_rate                          178792 non-null float64\n",
      "grade                             178792 non-null object\n",
      "emp_title                         167422 non-null object\n",
      "emp_length                        167531 non-null object\n",
      "home_ownership                    178792 non-null object\n",
      "annual_inc                        178792 non-null float64\n",
      "verification_status               178792 non-null object\n",
      "issue_d                           178792 non-null object\n",
      "loan_status                       178792 non-null object\n",
      "purpose                           178792 non-null object\n",
      "zip_code                          178792 non-null object\n",
      "addr_state                        178792 non-null object\n",
      "dti                               178792 non-null float64\n",
      "delinq_2yrs                       178792 non-null float64\n",
      "earliest_cr_line                  178792 non-null object\n",
      "fico_range_low                    178792 non-null float64\n",
      "fico_range_high                   178792 non-null float64\n",
      "inq_last_6mths                    178791 non-null float64\n",
      "mths_since_last_delinq            92363 non-null float64\n",
      "mths_since_last_record            36196 non-null float64\n",
      "open_acc                          178792 non-null float64\n",
      "pub_rec                           178792 non-null float64\n",
      "revol_bal                         178792 non-null float64\n",
      "revol_util                        178652 non-null float64\n",
      "total_acc                         178792 non-null float64\n",
      "collections_12_mths_ex_med        178792 non-null float64\n",
      "mths_since_last_major_derog       51420 non-null float64\n",
      "acc_now_delinq                    178792 non-null float64\n",
      "tot_coll_amt                      178792 non-null float64\n",
      "tot_cur_bal                       178792 non-null float64\n",
      "open_acc_6m                       178768 non-null float64\n",
      "open_act_il                       178769 non-null float64\n",
      "open_il_12m                       178769 non-null float64\n",
      "open_il_24m                       178769 non-null float64\n",
      "mths_since_rcnt_il                174674 non-null float64\n",
      "total_bal_il                      178769 non-null float64\n",
      "il_util                           155846 non-null float64\n",
      "open_rv_12m                       178769 non-null float64\n",
      "open_rv_24m                       178769 non-null float64\n",
      "max_bal_bc                        178769 non-null float64\n",
      "total_rev_hi_lim                  178792 non-null float64\n",
      "inq_fi                            178769 non-null float64\n",
      "inq_last_12m                      178768 non-null float64\n",
      "acc_open_past_24mths              178792 non-null float64\n",
      "avg_cur_bal                       178790 non-null float64\n",
      "bc_open_to_buy                    176628 non-null float64\n",
      "bc_util                           176513 non-null float64\n",
      "chargeoff_within_12_mths          178792 non-null float64\n",
      "delinq_amnt                       178792 non-null float64\n",
      "mo_sin_old_il_acct                174695 non-null float64\n",
      "mo_sin_old_rev_tl_op              178792 non-null float64\n",
      "mo_sin_rcnt_rev_tl_op             178792 non-null float64\n",
      "mo_sin_rcnt_tl                    178792 non-null float64\n",
      "mort_acc                          178792 non-null float64\n",
      "mths_since_recent_bc              176760 non-null float64\n",
      "mths_since_recent_bc_dlq          44455 non-null float64\n",
      "mths_since_recent_inq             164451 non-null float64\n",
      "mths_since_recent_revol_delinq    62926 non-null float64\n",
      "num_accts_ever_120_pd             178792 non-null float64\n",
      "num_actv_bc_tl                    178792 non-null float64\n",
      "num_actv_rev_tl                   178792 non-null float64\n",
      "num_bc_sats                       178792 non-null float64\n",
      "num_bc_tl                         178792 non-null float64\n",
      "num_il_tl                         178792 non-null float64\n",
      "num_op_rev_tl                     178792 non-null float64\n",
      "num_rev_accts                     178792 non-null float64\n",
      "num_rev_tl_bal_gt_0               178792 non-null float64\n",
      "num_sats                          178792 non-null float64\n",
      "num_tl_120dpd_2m                  170094 non-null float64\n",
      "num_tl_30dpd                      178792 non-null float64\n",
      "num_tl_90g_dpd_24m                178792 non-null float64\n",
      "num_tl_op_past_12m                178792 non-null float64\n",
      "percent_bc_gt_75                  176616 non-null float64\n",
      "pub_rec_bankruptcies              178792 non-null float64\n",
      "tax_liens                         178792 non-null float64\n",
      "tot_hi_cred_lim                   178792 non-null float64\n",
      "total_bal_ex_mort                 178792 non-null float64\n",
      "total_bc_limit                    178792 non-null float64\n",
      "total_il_high_credit_limit        178792 non-null float64\n",
      "dtypes: float64(69), object(12)\n",
      "memory usage: 110.5+ MB\n"
     ]
    }
   ],
   "source": [
    "df.info()"
   ]
  },
  {
   "cell_type": "markdown",
   "metadata": {},
   "source": [
    "# Helper Functions"
   ]
  },
  {
   "cell_type": "code",
   "execution_count": 4,
   "metadata": {},
   "outputs": [],
   "source": [
    "def reviewObject(df, name, size=None, title=None):\n",
    "    (df[name].value_counts().sort_index()).plot.bar(rot=45, figsize=size, title=title)\n",
    "    plt.show()\n",
    "    display(df[name].value_counts().sort_index())\n",
    "\n",
    "def plotCorr(df, lst, size=None):\n",
    "    correlations = df[lst].corr() * 100\n",
    "    mask = np.zeros_like(correlations, dtype=np.bool)\n",
    "    mask[np.triu_indices_from(mask)] = True\n",
    "    plt.figure() #figsize=(10,8)\n",
    "    # Plot heatmap of correlations\n",
    "    #print (correlations)\n",
    "    with sns.plotting_context(\"notebook\", font_scale=2.0):\n",
    "        fig, ax = plt.subplots(figsize=size) \n",
    "        sns.heatmap(correlations, annot=True, cbar=True, cmap='Greens', mask=mask, fmt='.0f') \n",
    "    plt.show()"
   ]
  },
  {
   "cell_type": "markdown",
   "metadata": {},
   "source": [
    "# Target Training Variable: loan_status\n",
    "\n",
    "We will train on loan status. For this, we only want Charged off/Defaulted and paid and we will drop anything else. \n",
    "\n",
    "We will rebucket 'Charged Off','Default' to the value of 1\n",
    "'Fully Paid','Completed' to the value of 0\n"
   ]
  },
  {
   "cell_type": "code",
   "execution_count": 5,
   "metadata": {},
   "outputs": [
    {
     "data": {
      "text/plain": [
       "Fully Paid     140379\n",
       "Charged Off     38413\n",
       "Name: loan_status, dtype: int64"
      ]
     },
     "metadata": {},
     "output_type": "display_data"
    }
   ],
   "source": [
    "display(df['loan_status'].value_counts())"
   ]
  },
  {
   "cell_type": "code",
   "execution_count": 6,
   "metadata": {},
   "outputs": [
    {
     "data": {
      "image/png": "[encoded data removed]",
      "text/plain": [
       "<Figure size 432x288 with 1 Axes>"
      ]
     },
     "metadata": {
      "needs_background": "light"
     },
     "output_type": "display_data"
    }
   ],
   "source": [
    "plt.figure()\n",
    "df['loan_status'].value_counts(dropna=False).plot.bar()\n",
    "plt.show()"
   ]
  },
  {
   "cell_type": "code",
   "execution_count": 7,
   "metadata": {},
   "outputs": [],
   "source": [
    "#project.addManualRuleForDefault(ed.CLEANDATA_DROP_NA_FOR_COLUMN, 'loan_status')\n",
    "df['loan_status'].replace(['Charged Off','Default'], 1, inplace=True)\n",
    "df['loan_status'].replace(['Fully Paid','Completed'], 0, inplace=True)\n",
    "\n",
    "#project.addManualRuleForDefault(ed.CLEANDATA_CONVERT_DATATYPE, 'loan_status','int64')\n",
    "#project.addManualRuleForDefault(ed.CLEANDATA_CONVERT_DATATYPE, 'issue_d','datetime64')\n",
    "df['loan_status'] = df['loan_status'].astype('int64')\n"
   ]
  },
  {
   "cell_type": "code",
   "execution_count": 8,
   "metadata": {},
   "outputs": [
    {
     "data": {
      "text/plain": [
       "0    140379\n",
       "1     38413\n",
       "Name: loan_status, dtype: int64"
      ]
     },
     "execution_count": 8,
     "metadata": {},
     "output_type": "execute_result"
    },
    {
     "data": {
      "image/png": "[encoded data removed]",
      "text/plain": [
       "<Figure size 432x288 with 1 Axes>"
      ]
     },
     "metadata": {
      "needs_background": "light"
     },
     "output_type": "display_data"
    }
   ],
   "source": [
    "df['loan_status'].value_counts(dropna=False).plot.bar()\n",
    "df['loan_status'].value_counts()"
   ]
  },
  {
   "cell_type": "markdown",
   "metadata": {},
   "source": [
    "# Objects\n",
    "\n",
    "\n",
    "## Term"
   ]
  },
  {
   "cell_type": "code",
   "execution_count": 9,
   "metadata": {},
   "outputs": [
    {
     "data": {
      "image/png": "[encoded data removed]",
      "text/plain": [
       "<Figure size 432x288 with 1 Axes>"
      ]
     },
     "metadata": {
      "needs_background": "light"
     },
     "output_type": "display_data"
    },
    {
     "data": {
      "text/plain": [
       " 36 months    136373\n",
       " 60 months     42419\n",
       "Name: term, dtype: int64"
      ]
     },
     "metadata": {},
     "output_type": "display_data"
    }
   ],
   "source": [
    "reviewObject(df,'term')"
   ]
  },
  {
   "cell_type": "markdown",
   "metadata": {},
   "source": [
    "## Grade"
   ]
  },
  {
   "cell_type": "code",
   "execution_count": 10,
   "metadata": {},
   "outputs": [
    {
     "data": {
      "text/plain": [
       "<matplotlib.axes._subplots.AxesSubplot at 0x1a1ac47518>"
      ]
     },
     "execution_count": 10,
     "metadata": {},
     "output_type": "execute_result"
    },
    {
     "data": {
      "image/png": "[encoded data removed]",
      "text/plain": [
       "<Figure size 432x288 with 1 Axes>"
      ]
     },
     "metadata": {
      "needs_background": "light"
     },
     "output_type": "display_data"
    }
   ],
   "source": [
    "# Default Rate by Grade\n",
    "df.groupby('grade')['loan_status'].mean().plot.line(title='Default Rate by Grade')"
   ]
  },
  {
   "cell_type": "code",
   "execution_count": 11,
   "metadata": {},
   "outputs": [
    {
     "data": {
      "image/png": "[encoded data removed]",
      "text/plain": [
       "<Figure size 432x288 with 1 Axes>"
      ]
     },
     "metadata": {
      "needs_background": "light"
     },
     "output_type": "display_data"
    },
    {
     "data": {
      "text/plain": [
       "A    26248\n",
       "B    49584\n",
       "C    54018\n",
       "D    27888\n",
       "E    13626\n",
       "F     5571\n",
       "G     1857\n",
       "Name: grade, dtype: int64"
      ]
     },
     "metadata": {},
     "output_type": "display_data"
    }
   ],
   "source": [
    "\n",
    "reviewObject(df,'grade')\n",
    "#df['grade'].replace(['A'], 1, inplace=True)\n",
    "#df['grade'].replace(['B'], 2, inplace=True)\n",
    "#df['grade'].replace(['C'], 3, inplace=True)\n",
    "#df['grade'].replace(['D'], 4, inplace=True)\n",
    "#df['grade'].replace(['E'], 5, inplace=True)\n",
    "#df['grade'].replace(['F'], 6, inplace=True)\n",
    "#df['grade'].replace(['G'], 7, inplace=True)\n",
    "#df['grade'].dropna(inplace=True)\n",
    "#df['grade'] = df['grade'].astype('int64')\n",
    "\n",
    "#plotCorr(df,['grade','int_rate'], size=None)"
   ]
  },
  {
   "cell_type": "code",
   "execution_count": 12,
   "metadata": {},
   "outputs": [
    {
     "data": {
      "image/png": "[encoded data removed]",
      "text/plain": [
       "<Figure size 1440x1440 with 3 Axes>"
      ]
     },
     "metadata": {
      "needs_background": "light"
     },
     "output_type": "display_data"
    }
   ],
   "source": [
    "df2 = df.groupby(['loan_status', 'grade'])['grade'].count().unstack('loan_status').fillna(0)\n",
    "\n",
    "\n",
    "#plt.figure()\n",
    "df2['predict'] = df2[1] / (df2[0] + df2[1])\n",
    "\n",
    "\n",
    "grade = [0,1,2,3,4,5,6,7]\n",
    "defaults = df2[[0,1]]\n",
    "predict = df2['predict']\n",
    "\n",
    "\n",
    "fig = plt.figure(figsize=(20,20))\n",
    "ax = plt.subplot2grid((4,2), (0,1))\n",
    "\n",
    "defaults.plot( kind='line', ax=ax)\n",
    "\n",
    "\n",
    "ax2 = ax.twinx()\n",
    "predict.plot(ax=ax2, kind='line',  secondary_y=True, marker='*', markerfacecolor='red')\n",
    "\n",
    "\n",
    "ax.set_title('Performance')\n",
    "ax2.set_ylabel('Default Rate')\n",
    "ax.set_ylabel('Number of Loans')\n",
    "#ax.set_xticklabels(('A', 'B', 'C', 'D', 'E', 'F', 'G'))\n",
    "\n",
    "fig.show()\n",
    "\n"
   ]
  },
  {
   "cell_type": "code",
   "execution_count": 13,
   "metadata": {},
   "outputs": [
    {
     "data": {
      "image/png": "[encoded data removed]",
      "text/plain": [
       "<Figure size 432x288 with 2 Axes>"
      ]
     },
     "metadata": {
      "needs_background": "light"
     },
     "output_type": "display_data"
    }
   ],
   "source": [
    "# Create some mock data\n",
    "grade = df2.index\n",
    "defaults = df2[[0,1]]\n",
    "predict = df2['predict']\n",
    "\n",
    "fig, ax1 = plt.subplots()\n",
    "\n",
    "color = 'tab:red'\n",
    "ax1.set_xlabel('Grade')\n",
    "ax1.set_ylabel('# Loans')\n",
    "ax1.plot(grade, defaults)\n",
    "ax1.tick_params(axis='y')\n",
    "\n",
    "ax2 = ax1.twinx()  # instantiate a second axes that shares the same x-axis\n",
    "\n",
    "color = 'tab:blue'\n",
    "ax2.set_ylabel('Default Rate', color=color)  # we already handled the x-label with ax1\n",
    "ax2.plot(grade, predict, color=color)\n",
    "ax2.tick_params(axis='y', labelcolor=color)\n",
    "\n",
    "fig.tight_layout()  # otherwise the right y-label is slightly clipped\n",
    "plt.show()"
   ]
  },
  {
   "cell_type": "markdown",
   "metadata": {},
   "source": [
    "## home_ownership"
   ]
  },
  {
   "cell_type": "code",
   "execution_count": 14,
   "metadata": {},
   "outputs": [
    {
     "data": {
      "image/png": "[encoded data removed]",
      "text/plain": [
       "<Figure size 432x288 with 1 Axes>"
      ]
     },
     "metadata": {
      "needs_background": "light"
     },
     "output_type": "display_data"
    },
    {
     "data": {
      "text/plain": [
       "ANY            93\n",
       "MORTGAGE    89376\n",
       "OWN         22698\n",
       "RENT        66625\n",
       "Name: home_ownership, dtype: int64"
      ]
     },
     "metadata": {},
     "output_type": "display_data"
    }
   ],
   "source": [
    "reviewObject(df,'home_ownership')"
   ]
  },
  {
   "cell_type": "code",
   "execution_count": 15,
   "metadata": {},
   "outputs": [
    {
     "data": {
      "image/png": "[encoded data removed]",
      "text/plain": [
       "<Figure size 432x288 with 1 Axes>"
      ]
     },
     "metadata": {
      "needs_background": "light"
     },
     "output_type": "display_data"
    },
    {
     "data": {
      "text/plain": [
       "MORTGAGE    89376\n",
       "OWN         22698\n",
       "RENT        66625\n",
       "Name: home_ownership, dtype: int64"
      ]
     },
     "metadata": {},
     "output_type": "display_data"
    }
   ],
   "source": [
    "# Replace ANY with rent\n",
    "df.drop(df[df['home_ownership'] == 'ANY'].index, inplace=True)\n",
    "reviewObject(df,'home_ownership')"
   ]
  },
  {
   "cell_type": "markdown",
   "metadata": {},
   "source": [
    "## Verification Status"
   ]
  },
  {
   "cell_type": "code",
   "execution_count": 16,
   "metadata": {},
   "outputs": [
    {
     "data": {
      "image/png": "[encoded data removed]",
      "text/plain": [
       "<Figure size 432x288 with 1 Axes>"
      ]
     },
     "metadata": {
      "needs_background": "light"
     },
     "output_type": "display_data"
    },
    {
     "data": {
      "text/plain": [
       "Not Verified       54237\n",
       "Source Verified    72445\n",
       "Verified           52017\n",
       "Name: verification_status, dtype: int64"
      ]
     },
     "metadata": {},
     "output_type": "display_data"
    }
   ],
   "source": [
    "reviewObject(df,'verification_status')"
   ]
  },
  {
   "cell_type": "markdown",
   "metadata": {},
   "source": [
    "## Purpose"
   ]
  },
  {
   "cell_type": "code",
   "execution_count": 17,
   "metadata": {},
   "outputs": [
    {
     "data": {
      "image/png": "[encoded data removed]",
      "text/plain": [
       "<Figure size 1008x360 with 1 Axes>"
      ]
     },
     "metadata": {
      "needs_background": "light"
     },
     "output_type": "display_data"
    },
    {
     "data": {
      "text/plain": [
       "car                     2148\n",
       "credit_card            33920\n",
       "debt_consolidation    101695\n",
       "home_improvement       14031\n",
       "house                   1312\n",
       "major_purchase          4752\n",
       "medical                 2578\n",
       "moving                  1600\n",
       "other                  12987\n",
       "renewable_energy         141\n",
       "small_business          1948\n",
       "vacation                1587\n",
       "Name: purpose, dtype: int64"
      ]
     },
     "metadata": {},
     "output_type": "display_data"
    }
   ],
   "source": [
    "reviewObject(df,'purpose', size=(14,5), title='Loan Purpose Count')\n",
    "df['purpose'].fillna('Missing',inplace = True)"
   ]
  },
  {
   "cell_type": "markdown",
   "metadata": {},
   "source": [
    "## Zip Code"
   ]
  },
  {
   "cell_type": "code",
   "execution_count": 18,
   "metadata": {},
   "outputs": [
    {
     "data": {
      "text/plain": [
       "count     178699\n",
       "unique       897\n",
       "top        945xx\n",
       "freq        2143\n",
       "Name: zip_code, dtype: object"
      ]
     },
     "execution_count": 18,
     "metadata": {},
     "output_type": "execute_result"
    }
   ],
   "source": [
    "df['zip_code'].describe()"
   ]
  },
  {
   "cell_type": "markdown",
   "metadata": {},
   "source": [
    "## Addr_state"
   ]
  },
  {
   "cell_type": "code",
   "execution_count": 19,
   "metadata": {},
   "outputs": [
    {
     "data": {
      "text/plain": [
       "count     178699\n",
       "unique        50\n",
       "top           CA\n",
       "freq       26277\n",
       "Name: addr_state, dtype: object"
      ]
     },
     "execution_count": 19,
     "metadata": {},
     "output_type": "execute_result"
    }
   ],
   "source": [
    "df['addr_state'].describe()"
   ]
  },
  {
   "cell_type": "markdown",
   "metadata": {},
   "source": [
    "## emp_length"
   ]
  },
  {
   "cell_type": "code",
   "execution_count": 20,
   "metadata": {},
   "outputs": [
    {
     "data": {
      "image/png": "[encoded data removed]",
      "text/plain": [
       "<Figure size 432x288 with 1 Axes>"
      ]
     },
     "metadata": {
      "needs_background": "light"
     },
     "output_type": "display_data"
    },
    {
     "data": {
      "text/plain": [
       "1 year       12121\n",
       "10+ years    61738\n",
       "2 years      16288\n",
       "3 years      14312\n",
       "4 years      10538\n",
       "5 years      10995\n",
       "6 years       7673\n",
       "7 years       6129\n",
       "8 years       7295\n",
       "9 years       7113\n",
       "< 1 year     13240\n",
       "Name: emp_length, dtype: int64"
      ]
     },
     "metadata": {},
     "output_type": "display_data"
    }
   ],
   "source": [
    "reviewObject(df,'emp_length',title='Employment Length in Years')"
   ]
  },
  {
   "cell_type": "code",
   "execution_count": 21,
   "metadata": {},
   "outputs": [],
   "source": [
    "df['emp_length'].replace(['< 1 year'], 6, inplace=True)\n",
    "df['emp_length'].replace(['1 year'], 12, inplace=True)\n",
    "df['emp_length'].replace(['2 years'], 24, inplace=True)\n",
    "df['emp_length'].replace(['3 years'], 36, inplace=True)\n",
    "df['emp_length'].replace(['4 years'], 48, inplace=True)\n",
    "df['emp_length'].replace(['5 years'], 60, inplace=True)\n",
    "df['emp_length'].replace(['6 years'], 72, inplace=True)\n",
    "df['emp_length'].replace(['7 years'], 84, inplace=True)\n",
    "df['emp_length'].replace(['8 years'], 96, inplace=True)\n",
    "df['emp_length'].replace(['9 years'], 108, inplace=True)\n",
    "df['emp_length'].replace(['10+ years'], 120, inplace=True)\n",
    "\n",
    "df['emp_length'].fillna(0, inplace = True)\n",
    "df['emp_length'] = df['emp_length'].astype('int64')"
   ]
  },
  {
   "cell_type": "code",
   "execution_count": 22,
   "metadata": {},
   "outputs": [
    {
     "data": {
      "image/png": "[encoded data removed]",
      "text/plain": [
       "<Figure size 432x288 with 1 Axes>"
      ]
     },
     "metadata": {
      "needs_background": "light"
     },
     "output_type": "display_data"
    },
    {
     "data": {
      "text/plain": [
       "0      11257\n",
       "6      13240\n",
       "12     12121\n",
       "24     16288\n",
       "36     14312\n",
       "48     10538\n",
       "60     10995\n",
       "72      7673\n",
       "84      6129\n",
       "96      7295\n",
       "108     7113\n",
       "120    61738\n",
       "Name: emp_length, dtype: int64"
      ]
     },
     "metadata": {},
     "output_type": "display_data"
    }
   ],
   "source": [
    "reviewObject(df,'emp_length',title='Employment Length in Months')"
   ]
  },
  {
   "cell_type": "markdown",
   "metadata": {},
   "source": [
    "## emp_title"
   ]
  },
  {
   "cell_type": "code",
   "execution_count": 23,
   "metadata": {},
   "outputs": [
    {
     "data": {
      "text/plain": [
       "count      167339\n",
       "unique      58884\n",
       "top       Manager\n",
       "freq         3238\n",
       "Name: emp_title, dtype: object"
      ]
     },
     "execution_count": 23,
     "metadata": {},
     "output_type": "execute_result"
    }
   ],
   "source": [
    "#reviewObject(df,'emp_title')\n",
    "#display(df['emp_title'].value_counts().sort_index())\n",
    "df['emp_title'].describe()"
   ]
  },
  {
   "cell_type": "markdown",
   "metadata": {},
   "source": [
    "# Highly Correlated Data\n",
    "\n",
    "## fico range low and high"
   ]
  },
  {
   "cell_type": "code",
   "execution_count": 24,
   "metadata": {},
   "outputs": [
    {
     "data": {
      "text/plain": [
       "<Figure size 432x288 with 0 Axes>"
      ]
     },
     "metadata": {},
     "output_type": "display_data"
    },
    {
     "data": {
      "image/png": "[encoded data removed]",
      "text/plain": [
       "<Figure size 432x288 with 2 Axes>"
      ]
     },
     "metadata": {
      "needs_background": "light"
     },
     "output_type": "display_data"
    }
   ],
   "source": [
    "#df[['grade','term']].corr()\n",
    "plotCorr(df,['fico_range_low','fico_range_high'], size=None)"
   ]
  },
  {
   "cell_type": "code",
   "execution_count": 25,
   "metadata": {},
   "outputs": [],
   "source": [
    "df['AvgCreditScore'] = ( df['fico_range_low'] + df['fico_range_high'] ) / 2.0\n",
    "df['AvgCreditScore'] = df['AvgCreditScore'].astype('int64')"
   ]
  },
  {
   "cell_type": "markdown",
   "metadata": {},
   "source": [
    "# Missing Values\n",
    "\n",
    "### Fill in missing data with zeros\n",
    "\n",
    "This is making an assumption that the missing data means that there are no values to report vs unreported values."
   ]
  },
  {
   "cell_type": "code",
   "execution_count": 26,
   "metadata": {},
   "outputs": [],
   "source": [
    "missing = ['inq_last_6mths','mths_since_last_delinq','mths_since_last_record','revol_util',\n",
    "           'mths_since_last_major_derog','open_acc_6m','open_act_il','open_il_12m','open_il_24m',\n",
    "           'mths_since_rcnt_il','total_bal_il','il_util','open_rv_12m','open_rv_24m','max_bal_bc',\n",
    "           'inq_fi','inq_last_12m','avg_cur_bal','bc_open_to_buy','bc_util','mo_sin_old_il_acct',\n",
    "           'mths_since_recent_bc','mths_since_recent_bc_dlq','mths_since_recent_inq',\n",
    "           'mths_since_recent_revol_delinq','num_accts_ever_120_pd','num_tl_120dpd_2m','percent_bc_gt_75']\n",
    "\n",
    "for x in missing:\n",
    "    df[x].fillna(0, inplace = True)\n"
   ]
  },
  {
   "cell_type": "markdown",
   "metadata": {},
   "source": [
    "# Outliers\n",
    "\n",
    "- For annual_inc 15 outliers above 4200000.0\n",
    "- For tot_coll_amt 2 outliers above 173380.0\n",
    "- For acc_open_past_24mths 1 outliers above 56.0\n",
    "- For mo_sin_rcnt_tl 2 outliers above 289.0\n",
    "- For mort_acc 2 outliers above 37.0\n",
    "- For num_actv_bc_tl 4 outliers above 29.0\n",
    "- For num_sats 2 outliers above 80.0\n",
    "- For num_tl_op_past_12m 4 outliers above 28.0\n",
    "- For tot_hi_cred_lim 3 outliers above 9999999.0\n",
    "- For total_bal_ex_mort 3 outliers above 1234429.0\n",
    "- For total_bc_limit 1 outliers above 1105500.0\n",
    "- For total_il_high_credit_limit 5 outliers above 1120706.0\n"
   ]
  },
  {
   "cell_type": "code",
   "execution_count": 27,
   "metadata": {},
   "outputs": [],
   "source": [
    "outliers =[('annual_inc',4200000.0),\n",
    "           ('tot_coll_amt',173380.0),\n",
    "           ('acc_open_past_24mths',56.0),\n",
    "           ('mo_sin_rcnt_tl',289.0),\n",
    "           ('mort_acc',37.0),\n",
    "           ('num_actv_bc_tl',29.0),\n",
    "           ('num_sats',80.0),\n",
    "           ('num_tl_op_past_12m',28.0),\n",
    "           ('tot_hi_cred_lim',9999999.0),\n",
    "           ('total_bal_ex_mort',1234429.0),\n",
    "           ('total_bc_limit',1105500.0),\n",
    "           ('total_il_high_credit_limit',1120706.0)]\n",
    "\n",
    "for col,val in outliers:\n",
    "    df.drop(df[df[col] >= val].index, inplace=True)"
   ]
  },
  {
   "cell_type": "markdown",
   "metadata": {},
   "source": [
    "# Date Data"
   ]
  },
  {
   "cell_type": "code",
   "execution_count": 28,
   "metadata": {},
   "outputs": [
    {
     "data": {
      "text/plain": [
       "0         275\n",
       "1         208\n",
       "2          51\n",
       "3         130\n",
       "4         109\n",
       "5         331\n",
       "6         109\n",
       "7         248\n",
       "8         216\n",
       "9         184\n",
       "10        164\n",
       "11        239\n",
       "12        219\n",
       "13         47\n",
       "14        172\n",
       "15        462\n",
       "16        203\n",
       "17        159\n",
       "18        139\n",
       "19        119\n",
       "20        236\n",
       "21        155\n",
       "22        178\n",
       "23        157\n",
       "24        450\n",
       "25        119\n",
       "26        324\n",
       "27        210\n",
       "28        178\n",
       "29        220\n",
       "         ... \n",
       "178762     68\n",
       "178763     46\n",
       "178764    123\n",
       "178765    167\n",
       "178766    265\n",
       "178767     56\n",
       "178768    291\n",
       "178769    448\n",
       "178770    175\n",
       "178771     46\n",
       "178772    229\n",
       "178773    260\n",
       "178774    178\n",
       "178775    127\n",
       "178776    588\n",
       "178777    537\n",
       "178778    440\n",
       "178779    178\n",
       "178780    116\n",
       "178781    275\n",
       "178782    151\n",
       "178783    133\n",
       "178784    123\n",
       "178785    205\n",
       "178786    194\n",
       "178787    203\n",
       "178788    133\n",
       "178789    275\n",
       "178790    196\n",
       "178791    162\n",
       "Name: CreditHistoryMonths, Length: 178657, dtype: int64"
      ]
     },
     "execution_count": 28,
     "metadata": {},
     "output_type": "execute_result"
    }
   ],
   "source": [
    "df['issue_d'] = df['issue_d'].astype('datetime64')\n",
    "df['earliest_cr_line'] = df['earliest_cr_line'].astype('datetime64')\n",
    "\n",
    "df['CreditHistoryMonths'] = ((abs(df['earliest_cr_line']- df['issue_d']))/np.timedelta64(1, 'M'))\n",
    "df['CreditHistoryMonths'] = df['CreditHistoryMonths'].astype(int)"
   ]
  },
  {
   "cell_type": "markdown",
   "metadata": {},
   "source": [
    "# External Data\n",
    "\n",
    "\n",
    "External data to help supplement demographic data"
   ]
  },
  {
   "cell_type": "markdown",
   "metadata": {},
   "source": [
    "## Replace 'addr_state', the borrowers state with the Cost of Living Index (COL)"
   ]
  },
  {
   "cell_type": "code",
   "execution_count": 29,
   "metadata": {},
   "outputs": [],
   "source": [
    "if EXTERNALFEATURES:\n",
    "    stateData = pd.read_csv('CostOfLivingByState.csv')\n",
    "    stateData.rename(index=str,columns={'Code':'addr_state'}, inplace=True)\n",
    "    toDrop = ['State','Median Income','Tax Burden', 'Unemployment Rate', \n",
    "              'Work-related Injury, Illness, and Fatality Rates']\n",
    "    stateData.drop(toDrop, axis = 1, inplace=True)"
   ]
  },
  {
   "cell_type": "code",
   "execution_count": 30,
   "metadata": {},
   "outputs": [],
   "source": [
    "if EXTERNALFEATURES:\n",
    "    df = pd.merge(df, stateData, on='addr_state', how='left', validate=\"many_to_one\")"
   ]
  },
  {
   "cell_type": "markdown",
   "metadata": {},
   "source": [
    "## Update zipcode data with IRS demographic data\n",
    "\n",
    "#### To create this file use: SummarizeIRSZipCodeData.ipynb\n",
    "\n",
    "  - PREP\tNumber of returns with paid preparer's signature\n",
    "  - N2\t    Number of exemptions\n",
    "  - ELDERLY\tNumber of elderly returns\n",
    "  - A00100\tAdjust gross income (AGI)\n",
    "  - N02650\tNumber of returns with total income\n",
    "  - A02650\tTotal income amount\n",
    "  - N00200\tNumber of returns with salaries and wages\n",
    "  - A00200\tSalaries and wages amount\n",
    "  - N00300\tNumber of returns with taxable interest\n",
    "  - A00300\tTaxable interest amount\n",
    "  - N00600\tNumber of returns with ordinary dividends \n",
    "  - A00600\tOrdinary dividends amount\n",
    "  - N00650\tNumber of returns with qualified dividends\n",
    "  - A00650\tQualified dividends amount\n",
    "  - N00900\tNumber of returns with business or professional net income (less loss)\n",
    "  - A00900\tBusiness or professional net income (less loss) amount\n",
    "  - N01000\tNumber of returns with net capital gain (less loss)\n",
    "  - A01000\tNet capital gain (less loss) amount\n",
    "  - SCHF  \tNumber of farm returns\n",
    "  - N02300\tNumber of returns with unemployment compensation\n",
    "  - A02300\tUnemployment compensation amount"
   ]
  },
  {
   "cell_type": "code",
   "execution_count": 31,
   "metadata": {},
   "outputs": [],
   "source": [
    "if EXTERNALFEATURES:\n",
    "    irsData = pd.read_csv('2016IRSZipCode3X.csv')\n",
    "    irsData.head(5)"
   ]
  },
  {
   "cell_type": "code",
   "execution_count": 32,
   "metadata": {},
   "outputs": [],
   "source": [
    "if EXTERNALFEATURES:\n",
    "    irsData.rename(index=str,columns={'zipcode3':'zip_code'}, inplace=True)\n",
    "    irsData.set_index('zip_code', inplace=True)"
   ]
  },
  {
   "cell_type": "code",
   "execution_count": 33,
   "metadata": {},
   "outputs": [],
   "source": [
    "if EXTERNALFEATURES:\n",
    "    irsDataFinal =pd.DataFrame(irsData, columns=['PREP','N2','ELDERLY','SCHF','N02300'])"
   ]
  },
  {
   "cell_type": "code",
   "execution_count": 34,
   "metadata": {},
   "outputs": [],
   "source": [
    "if EXTERNALFEATURES:\n",
    "    irsDataFinal.head(3)"
   ]
  },
  {
   "cell_type": "code",
   "execution_count": 35,
   "metadata": {},
   "outputs": [],
   "source": [
    "if EXTERNALFEATURES:\n",
    "    df = pd.merge(df, irsDataFinal, on='zip_code', how='left', validate=\"many_to_one\")"
   ]
  },
  {
   "cell_type": "code",
   "execution_count": 36,
   "metadata": {},
   "outputs": [],
   "source": [
    "if EXTERNALFEATURES:\n",
    "    df.head(5)"
   ]
  },
  {
   "cell_type": "markdown",
   "metadata": {},
   "source": [
    "# Remove columns not used"
   ]
  },
  {
   "cell_type": "code",
   "execution_count": 37,
   "metadata": {},
   "outputs": [],
   "source": [
    "toDrop = ['int_rate','term', 'emp_title', 'addr_state','zip_code', \n",
    "          'fico_range_low', 'fico_range_high', 'issue_d','earliest_cr_line']\n",
    "df.drop(toDrop, axis = 1, inplace=True)\n"
   ]
  },
  {
   "cell_type": "markdown",
   "metadata": {},
   "source": [
    "# one-hot encode"
   ]
  },
  {
   "cell_type": "code",
   "execution_count": 49,
   "metadata": {},
   "outputs": [
    {
     "name": "stdout",
     "output_type": "stream",
     "text": [
      "Columns one-hot encoded: []\n"
     ]
    }
   ],
   "source": [
    "# Prep the data\n",
    "#Create new dataframe with dummy features\n",
    "skipVariable = 'grade'\n",
    "\n",
    "col = [x for x in df.dtypes[(df.dtypes=='object')].index] + [x for x in df.dtypes[(df.dtypes=='category')].index]\n",
    "            \n",
    "# Remove target variable from hot encoding\n",
    "if skipVariable in col:\n",
    "    col = [x for x in col if x != skipVariable]\n",
    "                       \n",
    "df = pd.get_dummies(df, columns=col)   \n",
    "           \n",
    "# Convert to float\n",
    "for c in df:\n",
    "    if c!=skipVariable:\n",
    "        df[c] = df[c].astype('float64')\n",
    "\n",
    "print ('Columns one-hot encoded:', col)"
   ]
  },
  {
   "cell_type": "code",
   "execution_count": 51,
   "metadata": {},
   "outputs": [
    {
     "data": {
      "text/html": [
       "<div>\n",
       "<style scoped>\n",
       "    .dataframe tbody tr th:only-of-type {\n",
       "        vertical-align: middle;\n",
       "    }\n",
       "\n",
       "    .dataframe tbody tr th {\n",
       "        vertical-align: top;\n",
       "    }\n",
       "\n",
       "    .dataframe thead th {\n",
       "        text-align: right;\n",
       "    }\n",
       "</style>\n",
       "<table border=\"1\" class=\"dataframe\">\n",
       "  <thead>\n",
       "    <tr style=\"text-align: right;\">\n",
       "      <th></th>\n",
       "      <th>loan_amnt</th>\n",
       "      <th>grade</th>\n",
       "      <th>emp_length</th>\n",
       "      <th>annual_inc</th>\n",
       "      <th>loan_status</th>\n",
       "      <th>dti</th>\n",
       "      <th>delinq_2yrs</th>\n",
       "      <th>inq_last_6mths</th>\n",
       "      <th>mths_since_last_delinq</th>\n",
       "      <th>mths_since_last_record</th>\n",
       "      <th>...</th>\n",
       "      <th>purpose_debt_consolidation</th>\n",
       "      <th>purpose_home_improvement</th>\n",
       "      <th>purpose_house</th>\n",
       "      <th>purpose_major_purchase</th>\n",
       "      <th>purpose_medical</th>\n",
       "      <th>purpose_moving</th>\n",
       "      <th>purpose_other</th>\n",
       "      <th>purpose_renewable_energy</th>\n",
       "      <th>purpose_small_business</th>\n",
       "      <th>purpose_vacation</th>\n",
       "    </tr>\n",
       "  </thead>\n",
       "  <tbody>\n",
       "    <tr>\n",
       "      <th>0</th>\n",
       "      <td>11575.0</td>\n",
       "      <td>A</td>\n",
       "      <td>72.0</td>\n",
       "      <td>153000.0</td>\n",
       "      <td>0.0</td>\n",
       "      <td>16.99</td>\n",
       "      <td>0.0</td>\n",
       "      <td>0.0</td>\n",
       "      <td>24.0</td>\n",
       "      <td>84.0</td>\n",
       "      <td>...</td>\n",
       "      <td>0.0</td>\n",
       "      <td>0.0</td>\n",
       "      <td>0.0</td>\n",
       "      <td>0.0</td>\n",
       "      <td>0.0</td>\n",
       "      <td>0.0</td>\n",
       "      <td>0.0</td>\n",
       "      <td>0.0</td>\n",
       "      <td>0.0</td>\n",
       "      <td>0.0</td>\n",
       "    </tr>\n",
       "    <tr>\n",
       "      <th>1</th>\n",
       "      <td>7200.0</td>\n",
       "      <td>E</td>\n",
       "      <td>24.0</td>\n",
       "      <td>50000.0</td>\n",
       "      <td>0.0</td>\n",
       "      <td>6.07</td>\n",
       "      <td>0.0</td>\n",
       "      <td>0.0</td>\n",
       "      <td>72.0</td>\n",
       "      <td>0.0</td>\n",
       "      <td>...</td>\n",
       "      <td>1.0</td>\n",
       "      <td>0.0</td>\n",
       "      <td>0.0</td>\n",
       "      <td>0.0</td>\n",
       "      <td>0.0</td>\n",
       "      <td>0.0</td>\n",
       "      <td>0.0</td>\n",
       "      <td>0.0</td>\n",
       "      <td>0.0</td>\n",
       "      <td>0.0</td>\n",
       "    </tr>\n",
       "    <tr>\n",
       "      <th>2</th>\n",
       "      <td>7500.0</td>\n",
       "      <td>A</td>\n",
       "      <td>84.0</td>\n",
       "      <td>110000.0</td>\n",
       "      <td>0.0</td>\n",
       "      <td>13.12</td>\n",
       "      <td>0.0</td>\n",
       "      <td>2.0</td>\n",
       "      <td>0.0</td>\n",
       "      <td>0.0</td>\n",
       "      <td>...</td>\n",
       "      <td>1.0</td>\n",
       "      <td>0.0</td>\n",
       "      <td>0.0</td>\n",
       "      <td>0.0</td>\n",
       "      <td>0.0</td>\n",
       "      <td>0.0</td>\n",
       "      <td>0.0</td>\n",
       "      <td>0.0</td>\n",
       "      <td>0.0</td>\n",
       "      <td>0.0</td>\n",
       "    </tr>\n",
       "  </tbody>\n",
       "</table>\n",
       "<p>3 rows × 89 columns</p>\n",
       "</div>"
      ],
      "text/plain": [
       "   loan_amnt grade  emp_length  annual_inc  loan_status    dti  delinq_2yrs  \\\n",
       "0    11575.0     A        72.0    153000.0          0.0  16.99          0.0   \n",
       "1     7200.0     E        24.0     50000.0          0.0   6.07          0.0   \n",
       "2     7500.0     A        84.0    110000.0          0.0  13.12          0.0   \n",
       "\n",
       "   inq_last_6mths  mths_since_last_delinq  mths_since_last_record  \\\n",
       "0             0.0                    24.0                    84.0   \n",
       "1             0.0                    72.0                     0.0   \n",
       "2             2.0                     0.0                     0.0   \n",
       "\n",
       "         ...         purpose_debt_consolidation  purpose_home_improvement  \\\n",
       "0        ...                                0.0                       0.0   \n",
       "1        ...                                1.0                       0.0   \n",
       "2        ...                                1.0                       0.0   \n",
       "\n",
       "   purpose_house  purpose_major_purchase  purpose_medical  purpose_moving  \\\n",
       "0            0.0                     0.0              0.0             0.0   \n",
       "1            0.0                     0.0              0.0             0.0   \n",
       "2            0.0                     0.0              0.0             0.0   \n",
       "\n",
       "   purpose_other  purpose_renewable_energy  purpose_small_business  \\\n",
       "0            0.0                       0.0                     0.0   \n",
       "1            0.0                       0.0                     0.0   \n",
       "2            0.0                       0.0                     0.0   \n",
       "\n",
       "   purpose_vacation  \n",
       "0               0.0  \n",
       "1               0.0  \n",
       "2               0.0  \n",
       "\n",
       "[3 rows x 89 columns]"
      ]
     },
     "execution_count": 51,
     "metadata": {},
     "output_type": "execute_result"
    }
   ],
   "source": [
    "df.head(3)"
   ]
  },
  {
   "cell_type": "markdown",
   "metadata": {},
   "source": [
    "# Write Prepped File"
   ]
  },
  {
   "cell_type": "code",
   "execution_count": 52,
   "metadata": {},
   "outputs": [],
   "source": [
    "# Final Cleanup\n",
    "df.drop_duplicates(inplace=True)\n",
    "df.dropna(inplace=True)"
   ]
  },
  {
   "cell_type": "code",
   "execution_count": 53,
   "metadata": {},
   "outputs": [],
   "source": [
    "df.to_csv('LendingClub2017_2018FeatureReady.csv.gz',index=False,  compression='gzip')"
   ]
  },
  {
   "cell_type": "code",
   "execution_count": 50,
   "metadata": {},
   "outputs": [
    {
     "name": "stdout",
     "output_type": "stream",
     "text": [
      "<class 'pandas.core.frame.DataFrame'>\n",
      "Int64Index: 178657 entries, 0 to 178791\n",
      "Data columns (total 89 columns):\n",
      "loan_amnt                              178657 non-null float64\n",
      "grade                                  178657 non-null object\n",
      "emp_length                             178657 non-null float64\n",
      "annual_inc                             178657 non-null float64\n",
      "loan_status                            178657 non-null float64\n",
      "dti                                    178657 non-null float64\n",
      "delinq_2yrs                            178657 non-null float64\n",
      "inq_last_6mths                         178657 non-null float64\n",
      "mths_since_last_delinq                 178657 non-null float64\n",
      "mths_since_last_record                 178657 non-null float64\n",
      "open_acc                               178657 non-null float64\n",
      "pub_rec                                178657 non-null float64\n",
      "revol_bal                              178657 non-null float64\n",
      "revol_util                             178657 non-null float64\n",
      "total_acc                              178657 non-null float64\n",
      "collections_12_mths_ex_med             178657 non-null float64\n",
      "mths_since_last_major_derog            178657 non-null float64\n",
      "acc_now_delinq                         178657 non-null float64\n",
      "tot_coll_amt                           178657 non-null float64\n",
      "tot_cur_bal                            178657 non-null float64\n",
      "open_acc_6m                            178657 non-null float64\n",
      "open_act_il                            178657 non-null float64\n",
      "open_il_12m                            178657 non-null float64\n",
      "open_il_24m                            178657 non-null float64\n",
      "mths_since_rcnt_il                     178657 non-null float64\n",
      "total_bal_il                           178657 non-null float64\n",
      "il_util                                178657 non-null float64\n",
      "open_rv_12m                            178657 non-null float64\n",
      "open_rv_24m                            178657 non-null float64\n",
      "max_bal_bc                             178657 non-null float64\n",
      "total_rev_hi_lim                       178657 non-null float64\n",
      "inq_fi                                 178657 non-null float64\n",
      "inq_last_12m                           178657 non-null float64\n",
      "acc_open_past_24mths                   178657 non-null float64\n",
      "avg_cur_bal                            178657 non-null float64\n",
      "bc_open_to_buy                         178657 non-null float64\n",
      "bc_util                                178657 non-null float64\n",
      "chargeoff_within_12_mths               178657 non-null float64\n",
      "delinq_amnt                            178657 non-null float64\n",
      "mo_sin_old_il_acct                     178657 non-null float64\n",
      "mo_sin_old_rev_tl_op                   178657 non-null float64\n",
      "mo_sin_rcnt_rev_tl_op                  178657 non-null float64\n",
      "mo_sin_rcnt_tl                         178657 non-null float64\n",
      "mort_acc                               178657 non-null float64\n",
      "mths_since_recent_bc                   178657 non-null float64\n",
      "mths_since_recent_bc_dlq               178657 non-null float64\n",
      "mths_since_recent_inq                  178657 non-null float64\n",
      "mths_since_recent_revol_delinq         178657 non-null float64\n",
      "num_accts_ever_120_pd                  178657 non-null float64\n",
      "num_actv_bc_tl                         178657 non-null float64\n",
      "num_actv_rev_tl                        178657 non-null float64\n",
      "num_bc_sats                            178657 non-null float64\n",
      "num_bc_tl                              178657 non-null float64\n",
      "num_il_tl                              178657 non-null float64\n",
      "num_op_rev_tl                          178657 non-null float64\n",
      "num_rev_accts                          178657 non-null float64\n",
      "num_rev_tl_bal_gt_0                    178657 non-null float64\n",
      "num_sats                               178657 non-null float64\n",
      "num_tl_120dpd_2m                       178657 non-null float64\n",
      "num_tl_30dpd                           178657 non-null float64\n",
      "num_tl_90g_dpd_24m                     178657 non-null float64\n",
      "num_tl_op_past_12m                     178657 non-null float64\n",
      "percent_bc_gt_75                       178657 non-null float64\n",
      "pub_rec_bankruptcies                   178657 non-null float64\n",
      "tax_liens                              178657 non-null float64\n",
      "tot_hi_cred_lim                        178657 non-null float64\n",
      "total_bal_ex_mort                      178657 non-null float64\n",
      "total_bc_limit                         178657 non-null float64\n",
      "total_il_high_credit_limit             178657 non-null float64\n",
      "AvgCreditScore                         178657 non-null float64\n",
      "CreditHistoryMonths                    178657 non-null float64\n",
      "home_ownership_MORTGAGE                178657 non-null float64\n",
      "home_ownership_OWN                     178657 non-null float64\n",
      "home_ownership_RENT                    178657 non-null float64\n",
      "verification_status_Not Verified       178657 non-null float64\n",
      "verification_status_Source Verified    178657 non-null float64\n",
      "verification_status_Verified           178657 non-null float64\n",
      "purpose_car                            178657 non-null float64\n",
      "purpose_credit_card                    178657 non-null float64\n",
      "purpose_debt_consolidation             178657 non-null float64\n",
      "purpose_home_improvement               178657 non-null float64\n",
      "purpose_house                          178657 non-null float64\n",
      "purpose_major_purchase                 178657 non-null float64\n",
      "purpose_medical                        178657 non-null float64\n",
      "purpose_moving                         178657 non-null float64\n",
      "purpose_other                          178657 non-null float64\n",
      "purpose_renewable_energy               178657 non-null float64\n",
      "purpose_small_business                 178657 non-null float64\n",
      "purpose_vacation                       178657 non-null float64\n",
      "dtypes: float64(88), object(1)\n",
      "memory usage: 122.7+ MB\n"
     ]
    }
   ],
   "source": [
    "df.info()"
   ]
  },
  {
   "cell_type": "code",
   "execution_count": null,
   "metadata": {},
   "outputs": [],
   "source": []
  }
 ],
 "metadata": {
  "kernelspec": {
   "display_name": "Python 2",
   "language": "python",
   "name": "python2"
  },
  "language_info": {
   "codemirror_mode": {
    "name": "ipython",
    "version": 2
   },
   "file_extension": ".py",
   "mimetype": "text/x-python",
   "name": "python",
   "nbconvert_exporter": "python",
   "pygments_lexer": "ipython2",
   "version": "2.7.15"
  }
 },
 "nbformat": 4,
 "nbformat_minor": 2
}
