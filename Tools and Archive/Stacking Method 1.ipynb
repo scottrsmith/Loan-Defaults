{
 "cells": [
  {
   "cell_type": "markdown",
   "metadata": {
    "_cell_guid": "bc64948f-5d6a-078d-085d-1beb58687bd3",
    "_uuid": "e919d1161f20999e599ba1fd66a5a45b9c82f229"
   },
   "source": [
    "# Stacking\n",
    "\n"
   ]
  },
  {
   "cell_type": "code",
   "execution_count": 213,
   "metadata": {
    "_cell_guid": "14630296-b1aa-759e-bafa-b6a73f3896ed",
    "_execution_state": "idle",
    "_uuid": "2e37a274400cfeb472b6405d524325245588dd66"
   },
   "outputs": [
    {
     "data": {
      "text/html": [
       "<script type=\"text/javascript\">window.PlotlyConfig = {MathJaxConfig: 'local'};</script><script type=\"text/javascript\">if (window.MathJax) {MathJax.Hub.Config({SVG: {font: \"STIX-Web\"}});}</script><script>requirejs.config({paths: { 'plotly': ['https://cdn.plot.ly/plotly-latest.min']},});if(!window._Plotly) {require(['plotly'],function(plotly) {window._Plotly=plotly;});}</script>"
      ],
      "text/vnd.plotly.v1+html": [
       "<script type=\"text/javascript\">window.PlotlyConfig = {MathJaxConfig: 'local'};</script><script type=\"text/javascript\">if (window.MathJax) {MathJax.Hub.Config({SVG: {font: \"STIX-Web\"}});}</script><script>requirejs.config({paths: { 'plotly': ['https://cdn.plot.ly/plotly-latest.min']},});if(!window._Plotly) {require(['plotly'],function(plotly) {window._Plotly=plotly;});}</script>"
      ]
     },
     "metadata": {},
     "output_type": "display_data"
    }
   ],
   "source": [
    "from __future__ import print_function \n",
    "from __future__ import division\n",
    "\n",
    "\n",
    "# Load in our libraries\n",
    "import pandas as pd\n",
    "import numpy as np\n",
    "import re\n",
    "import sklearn\n",
    "import xgboost as xgb\n",
    "import seaborn as sns\n",
    "import matplotlib.pyplot as plt\n",
    "%matplotlib inline\n",
    "import itertools\n",
    "from time import time\n",
    "from pathlib import Path\n",
    "\n",
    "\n",
    "import plotly.offline as py\n",
    "py.init_notebook_mode(connected=True)\n",
    "import plotly.graph_objs as go\n",
    "import plotly.tools as tls\n",
    "\n",
    "import warnings\n",
    "warnings.filterwarnings('ignore')\n",
    "\n",
    "from sklearn.ensemble import (RandomForestClassifier, AdaBoostClassifier, \n",
    "                              GradientBoostingClassifier, ExtraTreesClassifier)\n",
    "from sklearn.svm import SVC\n",
    "#from sklearn.cross_validation import KFold\n",
    "from sklearn.model_selection import KFold, cross_val_score\n",
    "from mlxtend.classifier import StackingClassifier\n",
    "\n",
    "from sklearn.metrics import roc_curve, auc, roc_auc_score\n",
    "from sklearn.metrics import r2_score, mean_absolute_error, accuracy_score, make_scorer, fbeta_score, confusion_matrix\n",
    "from sklearn.metrics import f1_score, recall_score, precision_score\n",
    "from sklearn.model_selection import train_test_split\n",
    "\n",
    "from sklearn.neighbors import KNeighborsClassifier\n",
    "from sklearn.linear_model import SGDClassifier\n",
    "from sklearn.ensemble import BaggingClassifier\n",
    "from sklearn.naive_bayes import GaussianNB \n",
    "from sklearn.linear_model import LogisticRegression\n",
    "from sklearn.preprocessing import StandardScaler\n",
    "from sklearn.tree import DecisionTreeClassifier\n",
    "\n",
    "from sklearn.model_selection import GridSearchCV\n",
    "from sklearn.pipeline import make_pipeline\n",
    "\n",
    "SEED=42\n",
    "FBETA=.25\n",
    "goalsToReach = {'AUROC': 0.70,\n",
    "         'Precision': 0.386,\n",
    "         'fbeta': 0.44}\n"
   ]
  },
  {
   "cell_type": "markdown",
   "metadata": {
    "_cell_guid": "d647b74c-099b-851a-dcd2-3a58c9e8f10c",
    "_uuid": "8b590aafe06a2ac55daae9d2456155e457914f5f"
   },
   "source": []
  },
  {
   "cell_type": "code",
   "execution_count": 214,
   "metadata": {
    "_cell_guid": "5937fd72-d1ad-f678-cc82-f08a96e4cad0",
    "_execution_state": "idle",
    "_uuid": "b2ad78041b69ce13d1f41bd9bc8c93cafaf7b8ac"
   },
   "outputs": [
    {
     "data": {
      "text/html": [
       "<div>\n",
       "<style scoped>\n",
       "    .dataframe tbody tr th:only-of-type {\n",
       "        vertical-align: middle;\n",
       "    }\n",
       "\n",
       "    .dataframe tbody tr th {\n",
       "        vertical-align: top;\n",
       "    }\n",
       "\n",
       "    .dataframe thead th {\n",
       "        text-align: right;\n",
       "    }\n",
       "</style>\n",
       "<table border=\"1\" class=\"dataframe\">\n",
       "  <thead>\n",
       "    <tr style=\"text-align: right;\">\n",
       "      <th></th>\n",
       "      <th>loan_amnt</th>\n",
       "      <th>grade</th>\n",
       "      <th>emp_length</th>\n",
       "      <th>annual_inc</th>\n",
       "      <th>loan_status</th>\n",
       "      <th>dti</th>\n",
       "      <th>delinq_2yrs</th>\n",
       "      <th>inq_last_6mths</th>\n",
       "      <th>mths_since_last_delinq</th>\n",
       "      <th>mths_since_last_record</th>\n",
       "      <th>...</th>\n",
       "      <th>purpose_debt_consolidation</th>\n",
       "      <th>purpose_home_improvement</th>\n",
       "      <th>purpose_house</th>\n",
       "      <th>purpose_major_purchase</th>\n",
       "      <th>purpose_medical</th>\n",
       "      <th>purpose_moving</th>\n",
       "      <th>purpose_other</th>\n",
       "      <th>purpose_renewable_energy</th>\n",
       "      <th>purpose_small_business</th>\n",
       "      <th>purpose_vacation</th>\n",
       "    </tr>\n",
       "  </thead>\n",
       "  <tbody>\n",
       "    <tr>\n",
       "      <th>0</th>\n",
       "      <td>11575.0</td>\n",
       "      <td>A</td>\n",
       "      <td>72.0</td>\n",
       "      <td>153000.0</td>\n",
       "      <td>0.0</td>\n",
       "      <td>16.99</td>\n",
       "      <td>0.0</td>\n",
       "      <td>0.0</td>\n",
       "      <td>24.0</td>\n",
       "      <td>84.0</td>\n",
       "      <td>...</td>\n",
       "      <td>0.0</td>\n",
       "      <td>0.0</td>\n",
       "      <td>0.0</td>\n",
       "      <td>0.0</td>\n",
       "      <td>0.0</td>\n",
       "      <td>0.0</td>\n",
       "      <td>0.0</td>\n",
       "      <td>0.0</td>\n",
       "      <td>0.0</td>\n",
       "      <td>0.0</td>\n",
       "    </tr>\n",
       "    <tr>\n",
       "      <th>1</th>\n",
       "      <td>7200.0</td>\n",
       "      <td>E</td>\n",
       "      <td>24.0</td>\n",
       "      <td>50000.0</td>\n",
       "      <td>0.0</td>\n",
       "      <td>6.07</td>\n",
       "      <td>0.0</td>\n",
       "      <td>0.0</td>\n",
       "      <td>72.0</td>\n",
       "      <td>0.0</td>\n",
       "      <td>...</td>\n",
       "      <td>1.0</td>\n",
       "      <td>0.0</td>\n",
       "      <td>0.0</td>\n",
       "      <td>0.0</td>\n",
       "      <td>0.0</td>\n",
       "      <td>0.0</td>\n",
       "      <td>0.0</td>\n",
       "      <td>0.0</td>\n",
       "      <td>0.0</td>\n",
       "      <td>0.0</td>\n",
       "    </tr>\n",
       "    <tr>\n",
       "      <th>2</th>\n",
       "      <td>7500.0</td>\n",
       "      <td>A</td>\n",
       "      <td>84.0</td>\n",
       "      <td>110000.0</td>\n",
       "      <td>0.0</td>\n",
       "      <td>13.12</td>\n",
       "      <td>0.0</td>\n",
       "      <td>2.0</td>\n",
       "      <td>0.0</td>\n",
       "      <td>0.0</td>\n",
       "      <td>...</td>\n",
       "      <td>1.0</td>\n",
       "      <td>0.0</td>\n",
       "      <td>0.0</td>\n",
       "      <td>0.0</td>\n",
       "      <td>0.0</td>\n",
       "      <td>0.0</td>\n",
       "      <td>0.0</td>\n",
       "      <td>0.0</td>\n",
       "      <td>0.0</td>\n",
       "      <td>0.0</td>\n",
       "    </tr>\n",
       "  </tbody>\n",
       "</table>\n",
       "<p>3 rows × 89 columns</p>\n",
       "</div>"
      ],
      "text/plain": [
       "   loan_amnt grade  emp_length  annual_inc  loan_status    dti  delinq_2yrs  \\\n",
       "0    11575.0     A        72.0    153000.0          0.0  16.99          0.0   \n",
       "1     7200.0     E        24.0     50000.0          0.0   6.07          0.0   \n",
       "2     7500.0     A        84.0    110000.0          0.0  13.12          0.0   \n",
       "\n",
       "   inq_last_6mths  mths_since_last_delinq  mths_since_last_record  ...  \\\n",
       "0             0.0                    24.0                    84.0  ...   \n",
       "1             0.0                    72.0                     0.0  ...   \n",
       "2             2.0                     0.0                     0.0  ...   \n",
       "\n",
       "   purpose_debt_consolidation  purpose_home_improvement  purpose_house  \\\n",
       "0                         0.0                       0.0            0.0   \n",
       "1                         1.0                       0.0            0.0   \n",
       "2                         1.0                       0.0            0.0   \n",
       "\n",
       "   purpose_major_purchase  purpose_medical  purpose_moving  purpose_other  \\\n",
       "0                     0.0              0.0             0.0            0.0   \n",
       "1                     0.0              0.0             0.0            0.0   \n",
       "2                     0.0              0.0             0.0            0.0   \n",
       "\n",
       "   purpose_renewable_energy  purpose_small_business  purpose_vacation  \n",
       "0                       0.0                     0.0               0.0  \n",
       "1                       0.0                     0.0               0.0  \n",
       "2                       0.0                     0.0               0.0  \n",
       "\n",
       "[3 rows x 89 columns]"
      ]
     },
     "execution_count": 214,
     "metadata": {},
     "output_type": "execute_result"
    }
   ],
   "source": [
    "# Load in the train and test datasets\n",
    "X = pd.read_csv('LendingClub2017_2018FeatureReady.csv.gz',  compression='gzip')\n",
    "X.head(3)"
   ]
  },
  {
   "cell_type": "markdown",
   "metadata": {
    "_cell_guid": "dff1c1dd-1e59-3907-88fa-1a1d699122be",
    "_uuid": "81378834770e55c76751347588322fe32acf5737"
   },
   "source": []
  },
  {
   "cell_type": "code",
   "execution_count": 215,
   "metadata": {
    "_cell_guid": "e85b2a80-88a4-928f-f2b2-24895dea38f3",
    "_execution_state": "idle",
    "_uuid": "b1c67249f91768ce8e5e2751364d32c87446cf55"
   },
   "outputs": [],
   "source": [
    "# Remove Grade from the X Dataset for latter comparing to the end results\n",
    "grade = X['grade']\n",
    "X.drop('grade', axis = 1, inplace=True)\n",
    "\n",
    "# Need to track the columns to be used in  reporting feature importance\n",
    " \n",
    "dataColumns = [x for x in X.columns if x != 'loan_status']\n",
    "\n",
    "\n",
    "train, test , _ , _ = train_test_split(X, grade, test_size=.80, random_state=SEED)\n"
   ]
  },
  {
   "cell_type": "code",
   "execution_count": null,
   "metadata": {
    "_cell_guid": "8fc645ba-4b38-cea7-17b3-02175cb103d9",
    "_execution_state": "idle",
    "_uuid": "ca2d48b03d45f914db2ee9ae3ee95aad8fb20431"
   },
   "outputs": [],
   "source": []
  },
  {
   "cell_type": "markdown",
   "metadata": {
    "_cell_guid": "e9814168-b7cd-d4e4-1b1d-e21c6637a663",
    "_uuid": "dd288776321804d99e4e4a7e88594c1d631e4409"
   },
   "source": [
    "All right so now having cleaned the features and extracted relevant information and dropped the categorical columns our features should now all be numeric, a format suitable to feed into our Machine Learning models. However before we proceed let us generate some simple correlation and distribution plots of our transformed dataset to observe ho\n",
    "\n",
    "## Visualisations "
   ]
  },
  {
   "cell_type": "code",
   "execution_count": null,
   "metadata": {
    "_cell_guid": "fc426b8f-873d-6f23-4299-99f174956cca",
    "_execution_state": "idle",
    "_uuid": "1f280a1c11dc35a93b57af494938998e6d0b4544"
   },
   "outputs": [],
   "source": []
  },
  {
   "cell_type": "markdown",
   "metadata": {
    "_cell_guid": "41102927-8218-415a-0b73-5129c8f5dd0c",
    "_uuid": "3544b03040a1d691f6c48433c84d1e57f3c15e3d"
   },
   "source": []
  },
  {
   "cell_type": "code",
   "execution_count": null,
   "metadata": {
    "_cell_guid": "af2eba12-b836-42a1-9ff3-d7a55bec8f9d",
    "_uuid": "b6142da58d9515979930abee19549aacf7f62c9f"
   },
   "outputs": [],
   "source": []
  },
  {
   "cell_type": "markdown",
   "metadata": {
    "_cell_guid": "ccc92745-0680-df4d-d709-10003475d8e3",
    "_uuid": "b6c7a1ea3866d177016a1e13c5d9e7341c49c147"
   },
   "source": []
  },
  {
   "cell_type": "code",
   "execution_count": null,
   "metadata": {
    "_cell_guid": "ea6b0a8f-5a33-666f-8057-c0d689f370f5",
    "_execution_state": "idle",
    "_uuid": "624446543aafd518025fd3f5346d32ee1aab6f9a"
   },
   "outputs": [],
   "source": []
  },
  {
   "cell_type": "markdown",
   "metadata": {
    "_cell_guid": "32ac3ce1-42bc-9a7d-44f3-4b7c025a921c",
    "_uuid": "b74f445f5d9fb9622c4609c00679254abb3c91b1"
   },
   "source": [
    "# Ensembling & Stacking models\n",
    "\n"
   ]
  },
  {
   "cell_type": "markdown",
   "metadata": {
    "_cell_guid": "3e922821-5a10-040b-305a-c2d47d633c49",
    "_uuid": "4e5fda8c6c92fc3cdf8e906089494f80e7c37245"
   },
   "source": [
    "### Helpers via Python Classes\n"
   ]
  },
  {
   "cell_type": "code",
   "execution_count": 216,
   "metadata": {
    "_cell_guid": "c017c078-172d-16e9-65f2-4a01c6e0626f",
    "_uuid": "04d921ea89a0560cf010e956e4065bb2eaf21619"
   },
   "outputs": [],
   "source": [
    "# Some useful parameters which will come in handy later on\n",
    "ntrain = train.shape[0]\n",
    "ntest = test.shape[0]\n",
    "NFOLDS = 5 # set folds for out-of-fold prediction\n",
    "kf = KFold(n_splits=NFOLDS, random_state=SEED)\n",
    "\n",
    "# Class to extend the Sklearn classifier\n",
    "class SklearnHelper(object):\n",
    "    def __init__(self, name, clf, params=None):\n",
    "        if name in ['gaussiannb', 'kneighbors']:\n",
    "            pass\n",
    "        else:\n",
    "            params['random_state'] = SEED\n",
    "\n",
    "        self.clf = clf(**params)\n",
    "\n",
    "    def train(self, x_train, y_train):\n",
    "        self.clf.fit(x_train, y_train)\n",
    "\n",
    "    def predict(self, x):\n",
    "        return self.clf.predict(x)\n",
    "    \n",
    "    def fit(self,x,y):\n",
    "        return self.clf.fit(x,y)\n",
    "    \n",
    "    def feature_importances(self,x,y):\n",
    "        self.clf.fit(x,y)\n",
    "        if hasattr(self.clf,'feature_importances_'):\n",
    "            return self.clf.feature_importances_\n",
    "        elif hasattr(self.clf,'coef_'):\n",
    "            return self.clf.coef_[0]\n",
    "        else:\n",
    "            return None\n",
    "        \n"
   ]
  },
  {
   "cell_type": "markdown",
   "metadata": {
    "_cell_guid": "75f59fa7-65a4-e53e-95df-4c747a608408",
    "_uuid": "634199a5b36cba6b4d85db2c0401426a58b95279"
   },
   "source": []
  },
  {
   "cell_type": "markdown",
   "metadata": {
    "_cell_guid": "6f67620d-b531-a2fa-c297-e951970c3c28",
    "_uuid": "4d193c581df258e823aff2796bf015cf906aac99"
   },
   "source": [
    "### Out-of-Fold Predictions\n",
    "\n",
    "Now as alluded to above in the introductory section, stacking uses predictions of base classifiers as input for training to a second-level model. However one cannot simply train the base models on the full training data, generate predictions on the full test set and then output these for the second-level training. This runs the risk of your base model predictions already having \"seen\" the test set and therefore overfitting when feeding these predictions."
   ]
  },
  {
   "cell_type": "code",
   "execution_count": 217,
   "metadata": {
    "_cell_guid": "406d0494-1d0c-3126-19d9-bc53127c4249",
    "_uuid": "46a93dc062e973832cecd50246d0d7581aafb02b"
   },
   "outputs": [],
   "source": [
    "def get_oof(name, clf, x_train, y_train, x_test):\n",
    "    oof_train = np.zeros((ntrain,))\n",
    "    oof_test = np.zeros((ntest,))\n",
    "    oof_test_skf = np.empty((NFOLDS, ntest))\n",
    "    \n",
    "    print ('\\n\\nTraining: ',name)\n",
    "    i = 0\n",
    "    for train_index, test_index in kf.split(x_train):\n",
    "        x_tr = x_train[train_index]\n",
    "        y_tr = y_train[train_index]\n",
    "        x_te = x_train[test_index]\n",
    "\n",
    "        clf.train(x_tr, y_tr)\n",
    "\n",
    "        oof_train[test_index] = clf.predict(x_te)\n",
    "        oof_test_skf[i, :] = clf.predict(x_test)\n",
    "        i+=1\n",
    "\n",
    "    oof_test[:] = oof_test_skf.mean(axis=0)\n",
    "    print ('Training Complete',clf)\n",
    "    return oof_train.reshape(-1, 1), oof_test.reshape(-1, 1)"
   ]
  },
  {
   "cell_type": "markdown",
   "metadata": {
    "_cell_guid": "3cd92196-f7ba-4f14-0fc4-36520fbcb2ca",
    "_uuid": "7b1a7767ae61b6b217a3311e89190b05ab0a4891"
   },
   "source": [
    "# Generating our Base First-Level Models \n",
    "\n"
   ]
  },
  {
   "cell_type": "markdown",
   "metadata": {
    "_cell_guid": "0ef6862a-b5cc-6829-f040-d2b2b2c817f3",
    "_uuid": "12e3a5f76fb118ff6906431fc60e7010e33106ad"
   },
   "source": []
  },
  {
   "cell_type": "code",
   "execution_count": null,
   "metadata": {
    "_cell_guid": "6e634aba-90b6-0620-eceb-3e1a39fbfedc",
    "_uuid": "d77772886c0125e022d1fbb39cd484c95121d74d"
   },
   "outputs": [],
   "source": []
  },
  {
   "cell_type": "code",
   "execution_count": 218,
   "metadata": {},
   "outputs": [],
   "source": [
    "def lookupModelName (name):\n",
    "    modelNames = {'gbc':'gradientboostingclassifier__',\n",
    "                     'l1':'logisticregression__',\n",
    "                     'l2':'logisticregression__',\n",
    "                     'rfc':'randomforestclassifier__',\n",
    "                     'bagging':'baggingclassifier__',\n",
    "                     'adaboost':'adaboostclassifier__',\n",
    "                     'gaussiannb':'gaussiannb__',\n",
    "                     'gpr' : 'gaussianprocessclassifier_',\n",
    "                     'decisiontree':'decisiontreeclassifier__',\n",
    "                     'kneighbors': 'kneighborsclassifier__',\n",
    "                     'sgd':'sgdclassifier__',\n",
    "                     'baggingBE':'baggingclassifier__',\n",
    "                     'adaboostBE':'adaboostclassifier__',\n",
    "                    }\n",
    "    return(modelNames[name])\n",
    "    \n",
    "\n",
    "class calcScores(object):\n",
    "    def __init__(self, clf, modelName, hyperparameters, hyperparametersBE, X, y, runTime=None, goals=None):\n",
    "\n",
    "        self.clf = clf\n",
    "        self.scores = {}\n",
    "        self.modelName = modelName\n",
    "        self.hyperparameters = hyperparameters\n",
    "        self.hyperparametersBE = hyperparametersBE\n",
    "        self.bestParams = None\n",
    "\n",
    "        pred = self.clf.predict(X)\n",
    "        if modelName != 'sgd':\n",
    "            predProba = self.clf.predict_proba(X)\n",
    "            rows, cols = predProba.shape\n",
    "            if cols==2:\n",
    "                aurocPred = [p[1] for p in predProba]\n",
    "            else:\n",
    "                aurocPred = predProba\n",
    "            fpr, tpr, thresholds = roc_curve(y, aurocPred)\n",
    "        \n",
    "        # Test for runtimer\n",
    "        if runTime:\n",
    "            runInMinutes = runTime / 60\n",
    "        else:\n",
    "            runInMinutes = 0\n",
    "\n",
    "        if hasattr(clf,'best_score_'):\n",
    "            bestScore = clf.best_score_\n",
    "        else:\n",
    "            bestScore = 0\n",
    "        if hasattr(clf,'best_params_'):\n",
    "            self.bestParams = clf.best_params_\n",
    "        else:\n",
    "            self.bestParams = hyperparameters\n",
    "            \n",
    "        # Track feature importance\n",
    "        COEF = None\n",
    "        FI = None\n",
    "        if hasattr(self.clf,'feature_importances_'):\n",
    "            FI = self.clf.feature_importances_\n",
    "        if hasattr(self.clf,'coef_'):\n",
    "            COEF = self.clf.coef_[0]\n",
    "\n",
    "     \n",
    "        self.scores = {'fbeta': fbeta_score(y, pred, beta = FBETA), \n",
    "                       'CM': confusion_matrix(y, pred), \n",
    "                       'Recall': recall_score(y, pred),\n",
    "                       'Precision': precision_score(y, pred),\n",
    "                       'RunTime': runInMinutes,\n",
    "                       'F1': f1_score(y, pred),\n",
    "                       'Accuracy': accuracy_score(y, pred),\n",
    "                       'MAE': mean_absolute_error(y, pred),\n",
    "                       'r2': r2_score(y, pred),\n",
    "                       'Best Score': bestScore,\n",
    "                       'Best Params': self.bestParams,\n",
    "                       'FI': FI,\n",
    "                       'COEF': COEF} \n",
    "\n",
    "        if modelName == 'sgd':\n",
    "            self.scores['rocauc_score'] = 0.0\n",
    "            self.scores['AUROC'] = 0.0\n",
    "            self.scores['roc_curve'] = (0.,0.,0.)\n",
    "        else:\n",
    "            self.scores['rocauc_score'] = roc_auc_score(y, aurocPred)\n",
    "            self.scores['AUROC'] = auc(fpr, tpr)\n",
    "            self.scores['roc_curve'] = (fpr, tpr, thresholds)\n",
    "        \n",
    "        \n",
    "        # Test for Goals\n",
    "        listGoals = ''\n",
    "        self.scores['Goals'] = 'Not Reached'\n",
    "        if goalsToReach is not None:\n",
    "            for goal in goalsToReach:\n",
    "                if goal in self.scores:\n",
    "                    if self.scores[goal] is not None:\n",
    "                        val = goalsToReach[goal]\n",
    "                        if self.scores[goal] > val:\n",
    "                            listGoals += '{} of {:5.3f} beats {:5.3f},  '.format(goal,self.scores[goal], val)\n",
    "                if listGoals:\n",
    "                    self.scores['Goals'] = listGoals\n",
    "                    \n",
    "        # Build table for comparison reporting\n",
    "        df = pd.DataFrame({'goals': goals , \n",
    "                           'target': y, \n",
    "                           'predict': pred })\n",
    "        self.targetResults = df.groupby(['target', 'goals'])['goals'].count().unstack('target').fillna(0)\n",
    "        self.predictResults = df.groupby(['predict', 'goals'])['goals'].count().unstack('predict').fillna(0)\n",
    "\n",
    "        \n",
    "    def plotResults(self):\n",
    "        display(self.targetResults)\n",
    "        display(self.predictResults)\n",
    "        \n",
    "        \n",
    "    def printScores(self):      \n",
    "        print ('Scores:\\n\\n    Auroc={:5.3f}  rocauc={:5.3f}  fbeta={:5.3f}  recall={:5.3f}  precision={:5.3f}  Run Time(M)={:5.3f}\\n'.format(\n",
    "                    self.scores['AUROC'], self.scores['rocauc_score'], self.scores['fbeta'], \n",
    "               self.scores['Recall'], self.scores['Precision'], self.scores['RunTime'] ))  \n",
    "        print ('    Best Score={:5.3f}'.format(self.scores['Best Score']))\n",
    "        print ('    Best Params={}'.format(self.scores['Best Params']))\n",
    "        print ('    Goals= {}'.format(self.scores['Goals']))\n",
    "        \n",
    "        \n",
    "    def getScore(self, scoreName=None):\n",
    "        if scoreName:\n",
    "            if scoreName in self.scores:\n",
    "                return self.scores[scoreName]\n",
    "            else:\n",
    "                return None\n",
    "        else:\n",
    "            return self.scores['CM']\n",
    "        \n",
    "    def plotConfusionMatrix(self):\n",
    "        print ()\n",
    "        cmap=plt.cm.Blues\n",
    "        confusionMatrixLabels = [(0,'Paid'), (1, 'Default')]\n",
    "        classes = []\n",
    "        for val, desc in confusionMatrixLabels:\n",
    "            classes.append('{}({})'.format(desc,val))\n",
    "\n",
    "        cm = self.scores['CM']\n",
    "        plt.imshow(cm, interpolation='nearest', cmap=cmap)\n",
    "        plt.title('Confusion Matrix')\n",
    "        plt.colorbar()\n",
    "        tick_marks = np.arange(len(classes))\n",
    "        plt.xticks(tick_marks, classes, rotation=45)\n",
    "        plt.yticks(tick_marks, classes)\n",
    "\n",
    "        fmt = 'd'\n",
    "        thresh = cm.max() / 2.\n",
    "        for i, j in itertools.product(range(cm.shape[0]), range(cm.shape[1])):\n",
    "            plt.text(j, i, format(cm[i, j], fmt),\n",
    "                     horizontalalignment=\"center\",\n",
    "                     color=\"white\" if cm[i, j] > thresh else \"black\")\n",
    "\n",
    "        plt.ylabel('True label')\n",
    "        plt.xlabel('Predicted label')\n",
    "        plt.tight_layout()\n",
    "        plt.show()\n",
    "        \n",
    "    def plotroc(self):\n",
    "        print ()\n",
    "        fpr, tpr, thresholds = self.scores['roc_curve']\n",
    "        plt.title('Receiver Operating Characteristic')\n",
    "        plt.plot(fpr, tpr, 'b', label = 'AUC = %0.2f' % self.scores['AUROC'])\n",
    "        plt.legend(loc = 'lower right')\n",
    "        plt.plot([0, 1], [0, 1],'r--')\n",
    "        plt.xlim([0, 1])\n",
    "        plt.ylim([0, 1])\n",
    "        plt.ylabel('True Positive Rate')\n",
    "        plt.xlabel('False Positive Rate')\n",
    "        plt.show()\n",
    "        \n",
    "    def showAll(self):\n",
    "        self.printScores()\n",
    "        self.plotConfusionMatrix()\n",
    "        self.plotroc()\n",
    "        self.plotResults()\n",
    "        self.showFeatureImportances()\n",
    "\n",
    "    def showFeatureImportances(self):\n",
    "        if self.scores['FI'] is not None:\n",
    "            print ('Features Importance for ',self.modelName)\n",
    "            (pd.Series(self.scores['FI'], index=dataColumns).nlargest(FEATURESTOREPORT).plot(kind='barh', figsize=(15,10)))\n",
    "            plt.show()\n",
    "        elif self.scores['COEF'] is not None:\n",
    "            # The estimated coefficients will all be around 1:\n",
    "            print('No Feature Importance Using Estimated coefficients')\n",
    "            (pd.Series(self.scores['COEF'], index=dataColumns).nlargest(FEATURESTOREPORT).plot(kind='barh', figsize=(15,10)))\n",
    "            plt.show()\n",
    "        else:\n",
    "            print ('No features to report for ',self.modelName)\n",
    "        return\n",
    "          \n",
    "        \n",
    "        \n",
    "    def logScores(self, runLogName='Test Run', outputFileName='TestRun.csv', verbose=True):\n",
    "        if verbose:\n",
    "            print ('\\nLogging Results: ' + self.modelName)\n",
    "       \n",
    "        results = []\n",
    "              \n",
    "    \n",
    "        hyperparametersToReport = ['loss','max_depth','learning_rate','C','max_iter',\n",
    "                                   'solver','max_features','n_estimators','max_samples',\n",
    "                                   'algorithm','penalty','tol', 'var_smoothing',\n",
    "                                   'min_samples_split','min_samples_leaf','subsample',\n",
    "                                   'validation_fraction','n_iter_no_change']\n",
    " \n",
    "        scoresToReport = ['AUROC','fbeta', 'Recall', 'Precision','RunTime', 'F1', \n",
    "                          'Accuracy', 'MAE', 'r2']\n",
    "    \n",
    "        header = 'Model, Run'\n",
    "        for report in scoresToReport:\n",
    "            header += ', {}'.format(report)\n",
    "            \n",
    "        for param in hyperparametersToReport:\n",
    "            header += ', {}'.format(param)\n",
    "        header += ', runParams'\n",
    "        \n",
    "        if self.hyperparametersBE:\n",
    "            header += ', BaseEstParams'\n",
    "        #print ('\\n')\n",
    "        #print (header)\n",
    "        header+= '\\n'\n",
    "       \n",
    "        # Check is the file exists and than open for write or append\n",
    "        myFile = Path(outputFileName)\n",
    "        if myFile.is_file():\n",
    "            file = open(outputFileName,'a')\n",
    "        else:\n",
    "            file = open(outputFileName,'w')\n",
    "            file.write(header)\n",
    "    \n",
    "    \n",
    "        model = self.clf\n",
    "        scores = self.scores\n",
    "           \n",
    "        # Create a row for the scores\n",
    "        row = '{}, {}'.format(self.modelName, runLogName)\n",
    "        for report in scoresToReport:\n",
    "            if scores[report] is None:\n",
    "                row += ', None'\n",
    "            else:\n",
    "                row += ', {:5.3f}'.format(scores[report])\n",
    "        \n",
    "        # continue on the row with the hyperparametes\n",
    "        \n",
    "        #print ('model.best_params_ = ',model.best_params_)\n",
    "        \n",
    "        # continue on the row with the hyperparametes\n",
    "        for param in hyperparametersToReport:\n",
    "            lookup = lookupModelName(self.modelName.split('+')[0])+param\n",
    "            if lookup in self.bestParams:\n",
    "                row += ', {}'.format(self.bestParams[lookup])\n",
    "            elif param in self.bestParams:\n",
    "                row += ', {}'.format(self.bestParams[param])\n",
    "            else:\n",
    "                row += ','\n",
    "\n",
    "                \n",
    "                \n",
    "        # Format and print the hyperparamaters\n",
    "        hp = self.hyperparameters\n",
    "        hpStr = '{'\n",
    "        for h in hp:\n",
    "            hpStr+='{}: {},'.format(h,hp[h])\n",
    "        hpStr += '}'\n",
    "        row += ',\"{}\"'.format(hpStr)\n",
    "        \n",
    "        # add the base_estimator HPs\n",
    "        if self.hyperparametersBE:\n",
    "            row += ',\"{}\"'.format(self.hyperparametersBE)\n",
    "            \n",
    "        #print (row)\n",
    "        row += '\\n'\n",
    "        file.write(row)\n",
    "           \n",
    "        file.close()\n",
    "        #print ('\\n')\n",
    "        #for x in model.best_params_ :\n",
    "        #    print (x)\n",
    "   "
   ]
  },
  {
   "cell_type": "code",
   "execution_count": 219,
   "metadata": {},
   "outputs": [
    {
     "name": "stdout",
     "output_type": "stream",
     "text": [
      "Hyperparameters setting done\n"
     ]
    }
   ],
   "source": [
    "# Put in our parameters for classifiers\n",
    "# There are short and long version of hyperparameters based upon the run type\n",
    "\n",
    "############### logisticregression L1 #################\n",
    "# LogisticRegression(penalty=’l2’, dual=False, tol=0.0001, C=1.0, fit_intercept=True, \n",
    "# intercept_scaling=1, class_weight=None, random_state=None, solver=’warn’, max_iter=100, \n",
    "# multi_class=’warn’, verbose=0, warm_start=False, n_jobs=None)[source]\n",
    "#\n",
    "#\n",
    "# https://scikit-learn.org/stable/modules/generated/sklearn.linear_model.LogisticRegression.html\n",
    "# \n",
    "l1_hyperparameters_short = {\n",
    "                'logisticregression__solver' : ['liblinear'],\n",
    "                'logisticregression__C' : [.0001,.001, .01, .1, 10, 50, 100, 500]\n",
    "                 }\n",
    "l1_hyperparameters_long = {\n",
    "                'logisticregression__solver' : ['liblinear', 'saga'],\n",
    "                'logisticregression__C' : [.0001,.001, .01, .1, 10, 30, 50 ,100, 250, 500, 1000],\n",
    "                'logisticregression__max_iter': [15, 25, 50, 100, 300, 500]\n",
    "                }\n",
    "l1_hyperparameters_best = {\n",
    "                'logisticregression__C': [10], \n",
    "                'logisticregression__max_iter': [15], \n",
    "                'logisticregression__solver': ['liblinear']\n",
    "                }\n",
    "\n",
    "\n",
    "\n",
    "############### logisticregression L2 #################\n",
    "# https://scikit-learn.org/stable/modules/generated/sklearn.linear_model.LogisticRegression.html\n",
    "l2_hyperparameters_short = {\n",
    "                'logisticregression__solver' : ['lbfgs', 'liblinear'],\n",
    "                'logisticregression__C' : [.0001,.001, .01, .1, 10, 50, 100, 500]\n",
    "                }\n",
    "l2_hyperparameters_long = {\n",
    "                'logisticregression__solver' : ['newton-cg', 'lbfgs', 'liblinear', 'sag', 'saga'],\n",
    "                'logisticregression__C' : [.0001,.001, .01, .1, 10, 50, 100, 250, 500, 1000],\n",
    "                'logisticregression__max_iter': [15, 25, 50, 100, 300, 500]\n",
    "                }\n",
    "l2_hyperparameters_best = {\n",
    "                'logisticregression__C': [.1], \n",
    "                'logisticregression__max_iter': [25], \n",
    "                'logisticregression__solver': ['sag']\n",
    "                }\n",
    " \n",
    "    \n",
    "    \n",
    "\n",
    "############### randomforestclassifier #################\n",
    "#\n",
    "# RandomForestClassifier(n_estimators=’warn’, criterion=’gini’, max_depth=None, \n",
    "#      min_samples_split=2, min_samples_leaf=1, min_weight_fraction_leaf=0.0, \n",
    "#      max_features=’auto’, max_leaf_nodes=None, min_impurity_decrease=0.0, \n",
    "#      min_impurity_split=None, bootstrap=True, oob_score=False, \n",
    "#      n_jobs=None, random_state=None, verbose=0, warm_start=False, \n",
    "#      class_weight=None)\n",
    "#\n",
    "# https://scikit-learn.org/stable/modules/generated/sklearn.ensemble.RandomForestClassifier.html\n",
    "#\n",
    "rfc_hyperparameters_short = {\n",
    "                'randomforestclassifier__n_estimators': [10, 100, 200],\n",
    "                'randomforestclassifier__max_features': ['auto', 'sqrt', 0.33]\n",
    "                }\n",
    "rfc_hyperparameters_long = {\n",
    "                'randomforestclassifier__n_estimators': [10, 50, 100, 200],\n",
    "                'randomforestclassifier__max_features': ['auto', 'sqrt', 0.33, .11, 1.0]\n",
    "                }\n",
    "rfc_hyperparameters_best = {\n",
    "                'randomforestclassifier__n_estimators': [200],\n",
    "                'randomforestclassifier__max_features': [1.0]\n",
    "                }\n",
    " \n",
    "\n",
    "\n",
    "    \n",
    "############### gradientboostingclassifier #################\n",
    "#\n",
    "# GradientBoostingClassifier(loss=’deviance’, learning_rate=0.1, n_estimators=100, \n",
    "#      subsample=1.0, criterion=’friedman_mse’, min_samples_split=2, min_samples_leaf=1,\n",
    "#      min_weight_fraction_leaf=0.0, max_depth=3, min_impurity_decrease=0.0, \n",
    "#      min_impurity_split=None, init=None, random_state=None, max_features=None, \n",
    "#      verbose=0, max_leaf_nodes=None, warm_start=False, presort=’auto’, \n",
    "#      validation_fraction=0.1, n_iter_no_change=None, tol=0.0001)\n",
    "#\n",
    "# https://www.analyticsvidhya.com/blog/2016/02/complete-guide-parameter-tuning-gradient-boosting-gbm-python/\n",
    "# https://scikit-learn.org/stable/modules/generated/sklearn.ensemble.GradientBoostingClassifier.html\n",
    "#\n",
    "#\n",
    "gbc_hyperparameters_short = {\n",
    "                'gradientboostingclassifier__n_estimators': [50, 100],\n",
    "                'gradientboostingclassifier__max_depth': [1, 10, 50],\n",
    "                'gradientboostingclassifier__learning_rate':[.1, .01, .001]\n",
    "                }\n",
    "gbc_hyperparameters_long = {\n",
    "                'gradientboostingclassifier__min_samples_split': [2, 100, 500],\n",
    "                'gradientboostingclassifier__min_samples_leaf': [1, 50],\n",
    "                'gradientboostingclassifier__max_features': ['sqrt'],\n",
    "                'gradientboostingclassifier__subsample': [1., .8],\n",
    "                'gradientboostingclassifier__n_estimators': [175, 225],\n",
    "                'gradientboostingclassifier__max_depth': [6, 8, 10, 12],\n",
    "                'gradientboostingclassifier__loss': ['exponential','deviance'],\n",
    "                'gradientboostingclassifier__learning_rate':[.2, .1, .01, .05],\n",
    "                'gradientboostingclassifier__validation_fraction' :[0.1],\n",
    "                'gradientboostingclassifier__n_iter_no_change' :[5,10],\n",
    "                'gradientboostingclassifier__tol':[.1, .01, 0.001]\n",
    "                }\n",
    "\n",
    "\n",
    "\n",
    "gbc_hyperparameters_best = {\n",
    "                'gradientboostingclassifier__n_estimators': [300],\n",
    "                'gradientboostingclassifier__min_samples_split': [500],\n",
    "                'gradientboostingclassifier__loss': ['deviance'],\n",
    "                'gradientboostingclassifier__min_samples_leaf': [25],\n",
    "                'gradientboostingclassifier__max_features': ['sqrt'],\n",
    "                'gradientboostingclassifier__max_depth': [6],\n",
    "                'gradientboostingclassifier__learning_rate':[.1],\n",
    "                'gradientboostingclassifier__subsample': [.8],\n",
    "                'gradientboostingclassifier__validation_fraction' :[0.1],\n",
    "                'gradientboostingclassifier__n_iter_no_change' :[10],\n",
    "                'gradientboostingclassifier__tol':[0.001]\n",
    "                 }\n",
    "\n",
    "\n",
    "\n",
    "############### baggingclassifier #################\n",
    "bagging_hyperparameters_short = {\n",
    "                'baggingclassifier__n_estimators':[10], \n",
    "                'baggingclassifier__max_samples':[1.0], \n",
    "                'baggingclassifier__max_features':[1.0]\n",
    "                }\n",
    "bagging_hyperparameters_long = {\n",
    "                'baggingclassifier__n_estimators':[5, 10, 100], \n",
    "                'baggingclassifier__max_samples':[.5, .75, .95, 1.], \n",
    "                'baggingclassifier__max_features':[ .50, .75, .95, 1.]\n",
    "                }\n",
    "bagging_hyperparameters_best = {'baggingclassifier__max_features': [.75], \n",
    "               'baggingclassifier__max_samples': [.75], \n",
    "               'baggingclassifier__n_estimators': [100]}\n",
    "\n",
    "\n",
    "############### ADABOOST #################\n",
    "adaboost_hyperparameters_short = {\n",
    "                'adaboostclassifier__n_estimators':[50], \n",
    "                'adaboostclassifier__learning_rate':[1.0], \n",
    "                'adaboostclassifier__algorithm':['SAMME.R']\n",
    "                }\n",
    "adaboost_hyperparameters_long = {\n",
    "                'adaboostclassifier__n_estimators':[10, 50, 100], \n",
    "                'adaboostclassifier__learning_rate':[.1, 0.5, 1.0, 5.], \n",
    "                'adaboostclassifier__algorithm':['SAMME', 'SAMME.R']\n",
    "                }\n",
    "adaboost_hyperparameters_best = {'adaboostclassifier__n_estimators':[500], \n",
    "                'adaboostclassifier__learning_rate':[1.0], \n",
    "                'adaboostclassifier__algorithm':['SAMME.R']}\n",
    "\n",
    "############### gaussiannb #################\n",
    "# https://scikit-learn.org/stable/modules/generated/sklearn.naive_bayes.GaussianNB.html\n",
    "#\n",
    "# GaussianNB(priors=None, var_smoothing=1e-09)\n",
    "#\n",
    "\n",
    "gaussiannb_hyperparameters_short = {\n",
    "                'gaussiannb__var_smoothing':[ 1e-1, 1e-4, 1e-9]\n",
    "                }\n",
    "gaussiannb_hyperparameters_long = {\n",
    "                'gaussiannb__var_smoothing':[ 1., 1e-2, 1e-1, 1e-3, 1e-5, 1e-9]\n",
    "                }\n",
    "gaussiannb_hyperparameters_best = {\n",
    "                'gaussiannb__var_smoothing': [1.0]\n",
    "                }\n",
    " \n",
    "\n",
    "############### gaussiannb #################\n",
    "# https://scikit-learn.org/stable/modules/generated/sklearn.naive_bayes.GaussianNB.html\n",
    "#\n",
    "# GaussianNB(priors=None, var_smoothing=1e-09)\n",
    "#\n",
    "\n",
    "gpr_hyperparameters_short = {\n",
    "                'gaussianprocessclassifier__max_iter_predict':[100],\n",
    "                'gaussianprocessclassifier__n_restarts_optimizer': [0]\n",
    "                }\n",
    "gpr_hyperparameters_long = {\n",
    "                'gaussianprocessclassifier__max_iter_predict':[50, 100, 200],\n",
    "                'gaussianprocessclassifier__n_restarts_optimizer': [0]\n",
    "                }\n",
    "gpr_hyperparameters_best = {\n",
    "                'gaussianprocessclassifier__max_iter_predict':[100],\n",
    "                'gaussianprocessclassifier__n_restarts_optimizer': [0]\n",
    "                }\n",
    "\n",
    " \n",
    "\n",
    "############### decisiontree #################\n",
    "decisiontree_hyperparameters_short = {\n",
    "                'decisiontreeclassifier__max_depth':[1, 10, 50]\n",
    "                }\n",
    "decisiontree_hyperparameters_long = {\n",
    "                'decisiontreeclassifier__max_depth':[1, 10, 50, 100, 250]\n",
    "                }\n",
    "decisiontree_hyperparameters_best = {}\n",
    "\n",
    "\n",
    "############### kneighbors #################\n",
    "kneighbors_hyperparameters_short = {}\n",
    "kneighbors_hyperparameters_long = {}\n",
    "kneighbors_hyperparameters_best = {}\n",
    "\n",
    "\n",
    "############### sgdclassifier #################\n",
    "sgd_hyperparameters_short = {\n",
    "                'sgdclassifier__loss': ['hinge'], # \n",
    "                'sgdclassifier__penalty': ['l2'], # 'none', 'l2', 'l1', or 'elasticnet'\n",
    "                'sgdclassifier__max_iter': [1000],\n",
    "                'sgdclassifier__tol': [1e-3 ]\n",
    "                }\n",
    "sgd_hyperparameters_long = {\n",
    "                'sgdclassifier__loss': ['hinge', 'squared_loss', 'perceptron'], # \n",
    "                'sgdclassifier__penalty': ['l2', 'elasticnet'], # 'none', 'l2', 'l1', or 'elasticnet'\n",
    "                'sgdclassifier__max_iter': [10, 100, 1000],\n",
    "                'sgdclassifier__tol': [1e-1 , 1e-2 , 1e-3 ] \n",
    "                }\n",
    "sgd_hyperparameters_best = {}\n",
    "\n",
    "\n",
    "\n",
    "############### baggingclassifier #################\n",
    "baggingBE_hyperparameters_short = {\n",
    "                'baggingclassifier__n_estimators':[10], \n",
    "                'baggingclassifier__max_samples':[1.0], \n",
    "                'baggingclassifier__max_features':[1.0]\n",
    "                }\n",
    "baggingBE_hyperparameters_long = {\n",
    "                'baggingclassifier__n_estimators':[5, 10, 100], \n",
    "                'baggingclassifier__max_samples':[.25, .5, 1.], \n",
    "                'baggingclassifier__max_features':[.10, .25, .50, 1.]\n",
    "                }\n",
    "baggingBE_hyperparameters_best = {'baggingclassifier__max_features': [1.0], \n",
    "               'baggingclassifier__max_samples': [1.0], \n",
    "               'baggingclassifier__n_estimators': [100]}\n",
    "\n",
    "\n",
    "############### ADABOOST #################\n",
    "adaboostBE_hyperparameters_short = {\n",
    "                'adaboostclassifier__n_estimators':[50], \n",
    "                'adaboostclassifier__learning_rate':[1.0], \n",
    "                'adaboostclassifier__algorithm':['SAMME.R']\n",
    "                }\n",
    "adaboostBE_hyperparameters_long = {\n",
    "                'adaboostclassifier__n_estimators':[10, 50, 100], \n",
    "                'adaboostclassifier__learning_rate':[.1, 0.5, 1.0, 5.], \n",
    "                'adaboostclassifier__algorithm':['SAMME', 'SAMME.R']\n",
    "                }\n",
    "adaboostBE_hyperparameters_best = {'adaboostclassifier__n_estimators':[500], \n",
    "                'adaboostclassifier__learning_rate':[1.0], \n",
    "                'adaboostclassifier__algorithm':['SAMME.R']}\n",
    "\n",
    "\n",
    "print ('Hyperparameters setting done')\n"
   ]
  },
  {
   "cell_type": "code",
   "execution_count": 220,
   "metadata": {},
   "outputs": [],
   "source": [
    "hyperparameters_short = {'l1':l1_hyperparameters_short, 'l2':l2_hyperparameters_short, \n",
    "                         'rfc':rfc_hyperparameters_short, 'gbc':gbc_hyperparameters_short, \n",
    "                         'decisiontree':decisiontree_hyperparameters_short, \n",
    "                         'kneighbors':kneighbors_hyperparameters_short, \n",
    "                         'sgd':sgd_hyperparameters_long, \n",
    "                         'gpr':gpr_hyperparameters_long, \n",
    "                         'bagging':bagging_hyperparameters_short, 'adaboost':adaboost_hyperparameters_short,\n",
    "                         'gaussiannb': gaussiannb_hyperparameters_short}\n",
    "\n",
    "\n",
    "hyperparameters_long = {'l1':l1_hyperparameters_long, 'l2':l2_hyperparameters_long, \n",
    "                        'rfc':rfc_hyperparameters_long, 'gbc':gbc_hyperparameters_long, \n",
    "                        'decisiontree':decisiontree_hyperparameters_long, \n",
    "                        'kneighbors':kneighbors_hyperparameters_long, \n",
    "                        'sgd':sgd_hyperparameters_long, \n",
    "                        'gpr':gpr_hyperparameters_long, \n",
    "                        'bagging':bagging_hyperparameters_long, 'adaboost':adaboost_hyperparameters_long,\n",
    "                        'gaussiannb': gaussiannb_hyperparameters_long}\n",
    "\n",
    "hyperparameters_best = {'l1':l1_hyperparameters_best, 'l2':l2_hyperparameters_best, \n",
    "                        'rfc':rfc_hyperparameters_best, 'gbc':gbc_hyperparameters_best, \n",
    "                        'decisiontree':decisiontree_hyperparameters_best, \n",
    "                        'kneighbors':kneighbors_hyperparameters_best, \n",
    "                        'sgd':sgd_hyperparameters_best, \n",
    "                        'gpr':gpr_hyperparameters_best, \n",
    "                        'bagging':bagging_hyperparameters_best, 'adaboost':adaboost_hyperparameters_best,\n",
    "                        'gaussiannb': gaussiannb_hyperparameters_best}\n",
    "\n",
    "\n",
    "def fixHyperparameters(params, useList=False):\n",
    "    cleanParam = {}\n",
    "    for p in params:\n",
    "        paramName = p.split('__',1)[1]\n",
    "        if useList:\n",
    "            value = params[p]\n",
    "        else:\n",
    "            value = params[p][0]\n",
    "        cleanParam[paramName] = value\n",
    "    return cleanParam"
   ]
  },
  {
   "cell_type": "code",
   "execution_count": null,
   "metadata": {},
   "outputs": [],
   "source": []
  },
  {
   "cell_type": "code",
   "execution_count": 221,
   "metadata": {},
   "outputs": [
    {
     "name": "stdout",
     "output_type": "stream",
     "text": [
      "Hyperparameters setting done\n"
     ]
    }
   ],
   "source": [
    "# Put in our parameters for classifiers\n",
    "# There are short and long version of hyperparameters based upon the run type\n",
    "\n",
    "############### logisticregression L1 #################\n",
    "# LogisticRegression(penalty=’l2’, dual=False, tol=0.0001, C=1.0, fit_intercept=True, \n",
    "# intercept_scaling=1, class_weight=None, random_state=None, solver=’warn’, max_iter=100, \n",
    "# multi_class=’warn’, verbose=0, warm_start=False, n_jobs=None)[source]\n",
    "#\n",
    "#\n",
    "# https://scikit-learn.org/stable/modules/generated/sklearn.linear_model.LogisticRegression.html\n",
    "# \n",
    "l1_hyperparameters_short = {\n",
    "                'logisticregression__solver' : ['liblinear'],\n",
    "                'logisticregression__C' : [.0001,.001, .01, .1, 10, 50, 100, 500]\n",
    "                 }\n",
    "l1_hyperparameters_long = {\n",
    "                'logisticregression__solver' : ['liblinear', 'saga'],\n",
    "                'logisticregression__C' : [.0001,.001, .01, .1, 10, 30, 50 ,100, 250, 500, 1000],\n",
    "                'logisticregression__max_iter': [15, 25, 50, 100, 300, 500]\n",
    "                }\n",
    "l1_hyperparameters_best = {\n",
    "                'logisticregression__C': [10], \n",
    "                'logisticregression__max_iter': [15], \n",
    "                'logisticregression__solver': ['liblinear']\n",
    "                }\n",
    "\n",
    "\n",
    "\n",
    "############### logisticregression L2 #################\n",
    "# https://scikit-learn.org/stable/modules/generated/sklearn.linear_model.LogisticRegression.html\n",
    "l2_hyperparameters_short = {\n",
    "                'logisticregression__solver' : ['lbfgs', 'liblinear'],\n",
    "                'logisticregression__C' : [.0001,.001, .01, .1, 10, 50, 100, 500]\n",
    "                }\n",
    "l2_hyperparameters_long = {\n",
    "                'logisticregression__solver' : ['newton-cg', 'lbfgs', 'liblinear', 'sag', 'saga'],\n",
    "                'logisticregression__C' : [.0001,.001, .01, .1, 10, 50, 100, 250, 500, 1000],\n",
    "                'logisticregression__max_iter': [15, 25, 50, 100, 300, 500]\n",
    "                }\n",
    "l2_hyperparameters_best = {\n",
    "                'logisticregression__C': [.1], \n",
    "                'logisticregression__max_iter': [25], \n",
    "                'logisticregression__solver': ['sag']\n",
    "                }\n",
    " \n",
    "    \n",
    "    \n",
    "\n",
    "############### randomforestclassifier #################\n",
    "#\n",
    "# RandomForestClassifier(n_estimators=’warn’, criterion=’gini’, max_depth=None, \n",
    "#      min_samples_split=2, min_samples_leaf=1, min_weight_fraction_leaf=0.0, \n",
    "#      max_features=’auto’, max_leaf_nodes=None, min_impurity_decrease=0.0, \n",
    "#      min_impurity_split=None, bootstrap=True, oob_score=False, \n",
    "#      n_jobs=None, random_state=None, verbose=0, warm_start=False, \n",
    "#      class_weight=None)\n",
    "#\n",
    "# https://scikit-learn.org/stable/modules/generated/sklearn.ensemble.RandomForestClassifier.html\n",
    "#\n",
    "rfc_hyperparameters_short = {\n",
    "                'randomforestclassifier__n_estimators': [10, 100, 200],\n",
    "                'randomforestclassifier__max_features': ['auto', 'sqrt', 0.33]\n",
    "                }\n",
    "rfc_hyperparameters_long = {\n",
    "                'randomforestclassifier__n_estimators': [10, 50, 100, 200],\n",
    "                'randomforestclassifier__max_features': ['auto', 'sqrt', 0.33, .11, 1.0]\n",
    "                }\n",
    "rfc_hyperparameters_best = {\n",
    "                'randomforestclassifier__n_estimators': [200],\n",
    "                'randomforestclassifier__max_features': [1.0]\n",
    "                }\n",
    " \n",
    "\n",
    "    \n",
    "\n",
    "    \n",
    "    \n",
    "############### gradientboostingclassifier #################\n",
    "#\n",
    "# GradientBoostingClassifier(loss=’deviance’, learning_rate=0.1, n_estimators=100, \n",
    "#      subsample=1.0, criterion=’friedman_mse’, min_samples_split=2, min_samples_leaf=1,\n",
    "#      min_weight_fraction_leaf=0.0, max_depth=3, min_impurity_decrease=0.0, \n",
    "#      min_impurity_split=None, init=None, random_state=None, max_features=None, \n",
    "#      verbose=0, max_leaf_nodes=None, warm_start=False, presort=’auto’, \n",
    "#      validation_fraction=0.1, n_iter_no_change=None, tol=0.0001)\n",
    "#\n",
    "# https://www.analyticsvidhya.com/blog/2016/02/complete-guide-parameter-tuning-gradient-boosting-gbm-python/\n",
    "# https://scikit-learn.org/stable/modules/generated/sklearn.ensemble.GradientBoostingClassifier.html\n",
    "#\n",
    "#\n",
    "gbc_hyperparameters_short = {\n",
    "                'gradientboostingclassifier__n_estimators': [50, 100],\n",
    "                'gradientboostingclassifier__max_depth': [1, 10, 50],\n",
    "                'gradientboostingclassifier__learning_rate':[.1, .01, .001]\n",
    "                }\n",
    "gbc_hyperparameters_long = {\n",
    "                'gradientboostingclassifier__min_samples_split': [2, 100, 500],\n",
    "                'gradientboostingclassifier__min_samples_leaf': [1, 50],\n",
    "                'gradientboostingclassifier__max_features': ['sqrt'],\n",
    "                'gradientboostingclassifier__subsample': [1., .8],\n",
    "                'gradientboostingclassifier__n_estimators': [175, 225],\n",
    "                'gradientboostingclassifier__max_depth': [6, 8, 10, 12],\n",
    "                'gradientboostingclassifier__loss': ['exponential','deviance'],\n",
    "                'gradientboostingclassifier__learning_rate':[.2, .1, .01, .05],\n",
    "                'gradientboostingclassifier__validation_fraction' :[0.1],\n",
    "                'gradientboostingclassifier__n_iter_no_change' :[5,10],\n",
    "                'gradientboostingclassifier__tol':[.1, .01, 0.001]\n",
    "                }\n",
    "\n",
    "\n",
    "\n",
    "gbc_hyperparameters_best = {\n",
    "                'gradientboostingclassifier__n_estimators': [300],\n",
    "                'gradientboostingclassifier__min_samples_split': [500],\n",
    "                'gradientboostingclassifier__loss': ['deviance'],\n",
    "                'gradientboostingclassifier__min_samples_leaf': [25],\n",
    "                'gradientboostingclassifier__max_features': ['sqrt'],\n",
    "                'gradientboostingclassifier__max_depth': [6],\n",
    "                'gradientboostingclassifier__learning_rate':[.1],\n",
    "                'gradientboostingclassifier__subsample': [.8],\n",
    "                'gradientboostingclassifier__validation_fraction' :[0.1],\n",
    "                'gradientboostingclassifier__n_iter_no_change' :[10],\n",
    "                'gradientboostingclassifier__tol':[0.001]\n",
    "                 }\n",
    "\n",
    "\n",
    "\n",
    "############### baggingclassifier #################\n",
    "bagging_hyperparameters_short = {\n",
    "               'baggingclassifier__max_features': [.75, 1.], \n",
    "               'baggingclassifier__max_samples': [.75, 1.], \n",
    "               'baggingclassifier__n_estimators': [10, 100]}\n",
    "\n",
    "bagging_hyperparameters_long = {\n",
    "                'baggingclassifier__n_estimators':[5, 10, 100], \n",
    "                'baggingclassifier__max_samples':[.5, .75, .95, 1.], \n",
    "                'baggingclassifier__max_features':[ .50, .75, .95, 1.]\n",
    "                }\n",
    "bagging_hyperparameters_best = {'baggingclassifier__max_features': [.75], \n",
    "               'baggingclassifier__max_samples': [.75], \n",
    "               'baggingclassifier__n_estimators': [100]}\n",
    "{'max_features': 1.0, 'max_samples': 0.75, 'n_estimators': 10}\n",
    "\n",
    "############### ADABOOST #################\n",
    "adaboost_hyperparameters_short = {'adaboostclassifier__n_estimators':[10, 100], \n",
    "                'adaboostclassifier__learning_rate':[.1, .5, 1.0], \n",
    "                'adaboostclassifier__algorithm':['SAMME.R']}\n",
    "\n",
    "adaboost_hyperparameters_long = {\n",
    "                'adaboostclassifier__n_estimators':[10, 50, 100], \n",
    "                'adaboostclassifier__learning_rate':[.1, 0.5, 1.0], \n",
    "                'adaboostclassifier__algorithm':['SAMME', 'SAMME.R']\n",
    "                }\n",
    "adaboost_hyperparameters_best = {'adaboostclassifier__n_estimators':[100], \n",
    "                'adaboostclassifier__learning_rate':[1.0], \n",
    "                'adaboostclassifier__algorithm':['SAMME.R']}\n",
    "\n",
    "############### gaussiannb #################\n",
    "# https://scikit-learn.org/stable/modules/generated/sklearn.naive_bayes.GaussianNB.html\n",
    "#\n",
    "# GaussianNB(priors=None, var_smoothing=1e-09)\n",
    "#\n",
    "\n",
    "gaussiannb_hyperparameters_short = {\n",
    "                'gaussiannb__var_smoothing':[ 1e-1, 1e-4, 1e-9]\n",
    "                }\n",
    "gaussiannb_hyperparameters_long = {\n",
    "                'gaussiannb__var_smoothing':[ 1., 1e-2, 1e-1, 1e-3, 1e-5, 1e-9]\n",
    "                }\n",
    "gaussiannb_hyperparameters_best = {\n",
    "                'gaussiannb__var_smoothing': [1.0]\n",
    "                }\n",
    " \n",
    "\n",
    "############### gaussiannb #################\n",
    "# https://scikit-learn.org/stable/modules/generated/sklearn.naive_bayes.GaussianNB.html\n",
    "#\n",
    "# GaussianNB(priors=None, var_smoothing=1e-09)\n",
    "#\n",
    "\n",
    "gpr_hyperparameters_short = {\n",
    "                'gaussianprocessclassifier__max_iter_predict':[100],\n",
    "                'gaussianprocessclassifier__n_restarts_optimizer': [0]\n",
    "                }\n",
    "gpr_hyperparameters_long = {\n",
    "                'gaussianprocessclassifier__max_iter_predict':[50, 100, 200],\n",
    "                'gaussianprocessclassifier__n_restarts_optimizer': [0]\n",
    "                }\n",
    "gpr_hyperparameters_best = {\n",
    "                'gaussianprocessclassifier__max_iter_predict':[100],\n",
    "                'gaussianprocessclassifier__n_restarts_optimizer': [0]\n",
    "                }\n",
    "\n",
    " \n",
    "\n",
    "############### decisiontree #################\n",
    "#\n",
    "#  class sklearn.tree.DecisionTreeClassifier(criterion=’gini’, splitter=’best’, \n",
    "#         max_depth=None, min_samples_split=2, min_samples_leaf=1, min_weight_fraction_leaf=0.0, \n",
    "#         max_features=None, random_state=None, max_leaf_nodes=None, min_impurity_decrease=0.0, \n",
    "#         min_impurity_split=None, class_weight=None, presort=False)\n",
    "#\n",
    "# https://scikit-learn.org/stable/modules/generated/sklearn.tree.DecisionTreeClassifier.html\n",
    "\n",
    "decisiontree_hyperparameters_short = {\n",
    "                'decisiontreeclassifier__max_depth':[1, 10, 50]\n",
    "                }\n",
    "decisiontree_hyperparameters_long = {\n",
    "                'decisiontreeclassifier__criterion' :['gini', 'entropy'],\n",
    "                'decisiontreeclassifier__splitter' :['best', 'random'],\n",
    "                'decisiontreeclassifier__min_samples_split' :[2, 50, 100],\n",
    "                'decisiontreeclassifier__min_samples_leaf': [1, 50, 100],\n",
    "                'decisiontreeclassifier__max_features': ['sqrt','auto','log2',1., .2, .5],\n",
    "                'decisiontreeclassifier__max_depth':[None, 1, 10, 50, 100, 250]\n",
    "                }\n",
    "decisiontree_hyperparameters_best = {'decisiontreeclassifier__splitter': ['best'], \n",
    "                                     'decisiontreeclassifier__min_samples_leaf': [100], \n",
    "                                     'decisiontreeclassifier__min_samples_split': [100], \n",
    "                                     'decisiontreeclassifier__criterion': ['entropy'], \n",
    "                                     'decisiontreeclassifier__max_features': [1.0], \n",
    "                                     'decisiontreeclassifier__max_depth': [10]}\n",
    "\n",
    "\n",
    "############### kneighbors #################\n",
    "kneighbors_hyperparameters_short = {}\n",
    "kneighbors_hyperparameters_long = {}\n",
    "kneighbors_hyperparameters_best = {}\n",
    "\n",
    "\n",
    "############### sgdclassifier #################\n",
    "sgd_hyperparameters_short = {\n",
    "                'sgdclassifier__loss': ['hinge'], # \n",
    "                'sgdclassifier__penalty': ['l2'], # 'none', 'l2', 'l1', or 'elasticnet'\n",
    "                'sgdclassifier__max_iter': [1000],\n",
    "                'sgdclassifier__tol': [1e-3 ]\n",
    "                }\n",
    "sgd_hyperparameters_long = {\n",
    "                'sgdclassifier__loss': ['hinge', 'squared_loss', 'perceptron'], # \n",
    "                'sgdclassifier__penalty': ['l2', 'elasticnet'], # 'none', 'l2', 'l1', or 'elasticnet'\n",
    "                'sgdclassifier__max_iter': [10, 100, 1000],\n",
    "                'sgdclassifier__tol': [1e-1 , 1e-2 , 1e-3 ] \n",
    "                }\n",
    "sgd_hyperparameters_best = {}\n",
    "\n",
    "\n",
    "\n",
    "############### baggingclassifier #################\n",
    "baggingBE_hyperparameters_short = {\n",
    "               'baggingclassifier__max_features': [.75, 1.], \n",
    "               'baggingclassifier__max_samples': [.75, 1.], \n",
    "               'baggingclassifier__n_estimators': [10, 100]}\n",
    "\n",
    "baggingBE_hyperparameters_long = {\n",
    "                'baggingclassifier__n_estimators':[5, 10, 100], \n",
    "                'baggingclassifier__max_samples':[.5, .75, .95, 1.], \n",
    "                'baggingclassifier__max_features':[ .50, .75, .95, 1.]\n",
    "                }\n",
    "baggingBE_hyperparameters_best = {'baggingclassifier__max_features': [1.], \n",
    "               'baggingclassifier__max_samples': [.75], \n",
    "               'baggingclassifier__n_estimators': [10]}\n",
    "\n",
    "############### ADABOOST #################\n",
    "adaboostBE_hyperparameters_short = {'adaboostclassifier__n_estimators':[10, 100], \n",
    "                'adaboostclassifier__learning_rate':[.1, .5, 1.0], \n",
    "                'adaboostclassifier__algorithm':['SAMME.R']}\n",
    "\n",
    "adaboostBE_hyperparameters_long = {\n",
    "                'adaboostclassifier__n_estimators':[10, 50, 100], \n",
    "                'adaboostclassifier__learning_rate':[.1, 0.5, 1.0], \n",
    "                'adaboostclassifier__algorithm':['SAMME', 'SAMME.R']\n",
    "                }\n",
    "adaboostBE_hyperparameters_best = {'adaboostclassifier__n_estimators':[100], \n",
    "                'adaboostclassifier__learning_rate':[1.0], \n",
    "                'adaboostclassifier__algorithm':['SAMME.R']}\n",
    "\n",
    "\n",
    "\n",
    "print ('Hyperparameters setting done')\n",
    "\n",
    "\n"
   ]
  },
  {
   "cell_type": "code",
   "execution_count": 222,
   "metadata": {},
   "outputs": [
    {
     "name": "stdout",
     "output_type": "stream",
     "text": [
      "Hyperparameters setting done\n"
     ]
    }
   ],
   "source": [
    "models = {'l1':LogisticRegression, \n",
    "          'l2': LogisticRegression, \n",
    "          'rfc': RandomForestClassifier, \n",
    "          'gbc': GradientBoostingClassifier,\n",
    "          'decisiontree': DecisionTreeClassifier,\n",
    "          'kneighbors': KNeighborsClassifier, \n",
    "          'sgd': SGDClassifier,\n",
    "          'bagging': BaggingClassifier,\n",
    "          'adaboost': AdaBoostClassifier,\n",
    "          'gaussiannb': GaussianNB\n",
    "          }\n",
    "\n",
    "print ('Hyperparameters setting done')"
   ]
  },
  {
   "cell_type": "code",
   "execution_count": 223,
   "metadata": {},
   "outputs": [],
   "source": [
    "# These are ALL: 'l1','l2','rfc','gbc','bagging','adaboost','gaussiannb',\n",
    "#                'decisiontree','kneighbors','sgd', 'gpr'\n",
    "\n",
    "# {'rfc':'feature_importances',\n",
    "#                'adaboost': 'feature_importances',\n",
    "#                'l1': 'coef',\n",
    "#                'l2': 'coef',\n",
    "#                'sgd': 'coef',\n",
    "#                'bagging': None, \n",
    "#                'gbc': 'feature_importances',\n",
    "#                'rfc': 'feature_importances',\n",
    "#                'gpr': None,\n",
    "#                'gaussiannb': None,\n",
    "#                'decisiontree': 'feature_importances',\n",
    "#                'kneighbors': None}\n",
    "\n",
    "\n",
    "modelsToRun = ['l1','l2','gbc','adaboost','rfc']\n",
    "\n",
    "modelList = {}\n",
    "params = {}\n",
    "\n",
    "for x in modelsToRun:\n",
    "    modelList[x] = models[x]\n",
    "    params[x] = fixHyperparameters(hyperparameters_best[x],useList=False)\n",
    "    params[x] = {}"
   ]
  },
  {
   "cell_type": "markdown",
   "metadata": {
    "_cell_guid": "ee6325d7-a7c1-c767-fcba-4c59eaa83787",
    "_uuid": "4a49a6c0cbe7028035b6efb7f9374084f3fa152a"
   },
   "source": [
    "Furthermore, since having mentioned about Objects and classes within the OOP framework, let us now create 5 objects that represent our 5 learning models via our Helper Sklearn Class we defined earlier."
   ]
  },
  {
   "cell_type": "code",
   "execution_count": 224,
   "metadata": {
    "_cell_guid": "6798243f-5ff9-527b-01b1-09cfe62284bb",
    "_uuid": "3bd54b4dfbbedc86d6c415cf83936bb8cd6c0973"
   },
   "outputs": [],
   "source": [
    "# Create 5 objects that represent our 4 models\n",
    "clf = {}\n",
    "clf[0] = SklearnHelper(modelsToRun[0],clf=modelList[modelsToRun[0]], params=params[modelsToRun[0]])\n",
    "clf[1] = SklearnHelper(modelsToRun[1],clf=modelList[modelsToRun[1]], params=params[modelsToRun[1]])\n",
    "clf[2] = SklearnHelper(modelsToRun[2],clf=modelList[modelsToRun[2]], params=params[modelsToRun[2]])\n",
    "clf[3] = SklearnHelper(modelsToRun[3],clf=modelList[modelsToRun[3]], params=params[modelsToRun[3]])\n",
    "clf[4] = SklearnHelper(modelsToRun[4],clf=modelList[modelsToRun[4]], params=params[modelsToRun[4]])"
   ]
  },
  {
   "cell_type": "markdown",
   "metadata": {
    "_cell_guid": "46e1e6fc-92e2-e7e2-1ab9-470e6c7039ce",
    "_uuid": "cd3f527543e61b3841f242b744c3c5d9af608941"
   },
   "source": [
    "**Creating NumPy arrays out of our train and test sets**\n",
    "\n",
    "Great. Having prepared our first layer base models as such, we can now ready the training and test test data for input into our classifiers by generating NumPy arrays out of their original dataframes as follows:"
   ]
  },
  {
   "cell_type": "code",
   "execution_count": null,
   "metadata": {},
   "outputs": [],
   "source": []
  },
  {
   "cell_type": "code",
   "execution_count": 225,
   "metadata": {
    "_cell_guid": "968cbd7f-80b2-7f8d-2ad6-b68b3aeae671",
    "_uuid": "95fdd1e8cd9f23cfcef3bed92511da084a323c55"
   },
   "outputs": [],
   "source": [
    "# Create Numpy arrays of train, test and target ( Survived) dataframes to feed into our models\n",
    "y_train = train['loan_status'].ravel()\n",
    "train = train.drop(['loan_status'], axis=1)\n",
    "x_train = train.values # Creates an array of the train data\n",
    "\n",
    "y_test = test['loan_status'].ravel()\n",
    "test = test.drop(['loan_status'], axis=1)\n",
    "x_test = test.values # Creates an array of the train data\n"
   ]
  },
  {
   "cell_type": "code",
   "execution_count": null,
   "metadata": {},
   "outputs": [],
   "source": []
  },
  {
   "cell_type": "markdown",
   "metadata": {
    "_cell_guid": "606b619c-2301-8aaa-a5de-781d981c4a6f",
    "_uuid": "d30ac9528b69cdaec565b647fee98a92391112c9"
   },
   "source": [
    "**Output of the First level Predictions** \n"
   ]
  },
  {
   "cell_type": "code",
   "execution_count": null,
   "metadata": {},
   "outputs": [],
   "source": []
  },
  {
   "cell_type": "code",
   "execution_count": 226,
   "metadata": {
    "_cell_guid": "79bd2a86-82e2-648a-e816-9660e89794ad",
    "_uuid": "114750e2d5e4fdd234ccd8647fc349463a56fa09",
    "scrolled": true
   },
   "outputs": [
    {
     "name": "stdout",
     "output_type": "stream",
     "text": [
      "\n",
      "\n",
      "Training:  l1\n",
      "Training Complete <__main__.SklearnHelper object at 0x1a1aae4250>\n",
      "\n",
      "\n",
      "Training:  l2\n",
      "Training Complete <__main__.SklearnHelper object at 0x1a1aae4e50>\n",
      "\n",
      "\n",
      "Training:  gbc\n",
      "Training Complete <__main__.SklearnHelper object at 0x1a1aae4290>\n",
      "\n",
      "\n",
      "Training:  adaboost\n",
      "Training Complete <__main__.SklearnHelper object at 0x1a1aafc350>\n",
      "\n",
      "\n",
      "Training:  rfc\n",
      "Training Complete <__main__.SklearnHelper object at 0x1a1aafc310>\n",
      "Training is complete\n"
     ]
    }
   ],
   "source": [
    "# Create our OOF train and test predictions. These base results will be used as new features\n",
    "oof_train0, oof_test0 = get_oof(modelsToRun[0], clf[0], x_train, y_train, x_test) # Extra Trees\n",
    "oof_train1, oof_test1 = get_oof(modelsToRun[1], clf[1],x_train, y_train, x_test) # Random Forest\n",
    "oof_train2, oof_test2 = get_oof(modelsToRun[2], clf[2], x_train, y_train, x_test) # AdaBoost \n",
    "oof_train3, oof_test3 = get_oof(modelsToRun[3], clf[3],x_train, y_train, x_test) # Gradient Boost\n",
    "\n",
    "oof_train4, oof_test4 = get_oof(modelsToRun[4], clf[4],x_train, y_train, x_test) # Support Vector Classifier\n",
    "\n",
    "print(\"Training is complete\")"
   ]
  },
  {
   "cell_type": "markdown",
   "metadata": {
    "_cell_guid": "3f292e65-fe8a-d662-6ace-41a19866d671",
    "_uuid": "4cf41b3d9a541c9d39b645a66c8f1116eaf76861"
   },
   "source": [
    "**Feature importances generated from the different classifiers**\n"
   ]
  },
  {
   "cell_type": "code",
   "execution_count": 227,
   "metadata": {
    "_cell_guid": "ed9cf8b5-95a4-d974-fb11-592214949d1f",
    "_uuid": "b3b0356c8bef0dceb5fcfa7fb7a11359010b2098"
   },
   "outputs": [],
   "source": [
    "feature = {}\n",
    "feature[0] = clf[0].feature_importances(x_train,y_train)\n",
    "feature[1] = clf[1].feature_importances(x_train, y_train)\n",
    "feature[2] = clf[2].feature_importances(x_train, y_train)\n",
    "feature[3] = clf[3].feature_importances(x_train,y_train)"
   ]
  },
  {
   "cell_type": "code",
   "execution_count": null,
   "metadata": {
    "_cell_guid": "bde9b5fd-3100-8f21-053e-45015b99cf65",
    "_uuid": "527425374ec8cd66edc015842f352a95041821c6"
   },
   "outputs": [],
   "source": []
  },
  {
   "cell_type": "markdown",
   "metadata": {
    "_cell_guid": "2a03ad8f-0ea1-5afa-a6e8-56284482c646",
    "_uuid": "d59169f89c5541177f537200a90805420b449001"
   },
   "source": [
    "Create a dataframe from the lists containing the feature importance data for easy plotting via the Plotly package."
   ]
  },
  {
   "cell_type": "code",
   "execution_count": 228,
   "metadata": {
    "_cell_guid": "635a063f-281d-66d4-6572-587ebecd6b4b",
    "_uuid": "6f68b3033a8f185f61d83e80323c2486024f5d4d"
   },
   "outputs": [],
   "source": [
    "cols = dataColumns\n",
    "# Create a dataframe with features\n",
    "#feature_dataframe = pd.DataFrame( {'features': dataColumns,\n",
    "#     'Random Forest feature importances': rf_features,\n",
    "#     'Extra Trees  feature importances': et_features,\n",
    "#      'AdaBoost feature importances': ada_features,\n",
    "#    'Gradient Boost feature importances': gb_features\n",
    "#    })\n",
    "\n",
    "\n",
    "# Create a dataframe with features\n",
    "feature_dataframe = pd.DataFrame( {'features': cols,\n",
    "     modelsToRun[0]: feature[0],\n",
    "     modelsToRun[1]: feature[1],\n",
    "     modelsToRun[2]: feature[2],\n",
    "     modelsToRun[3]: feature[3],\n",
    "    })"
   ]
  },
  {
   "cell_type": "markdown",
   "metadata": {
    "_cell_guid": "c1201ecc-b07d-f8a1-0870-b8d78c89ebc0",
    "_uuid": "bbb76d189e8d03921caaacfa9545cef894348c7d"
   },
   "source": [
    "# Second-Level Predictions from the First-level Output"
   ]
  },
  {
   "cell_type": "markdown",
   "metadata": {
    "_cell_guid": "6b901750-ccdd-38ca-d8ea-1c361121ec4f",
    "_uuid": "fed132782b73dda8d265065867e7f57c0aed7f50"
   },
   "source": [
    "**First-level output as new features**\n"
   ]
  },
  {
   "cell_type": "code",
   "execution_count": 229,
   "metadata": {
    "_cell_guid": "7330a71c-0b71-87c2-1f4d-dd0f6d6fa586",
    "_uuid": "a5945e93337b87a1a8ee5580856768bbb14c07cd"
   },
   "outputs": [
    {
     "data": {
      "text/html": [
       "<div>\n",
       "<style scoped>\n",
       "    .dataframe tbody tr th:only-of-type {\n",
       "        vertical-align: middle;\n",
       "    }\n",
       "\n",
       "    .dataframe tbody tr th {\n",
       "        vertical-align: top;\n",
       "    }\n",
       "\n",
       "    .dataframe thead th {\n",
       "        text-align: right;\n",
       "    }\n",
       "</style>\n",
       "<table border=\"1\" class=\"dataframe\">\n",
       "  <thead>\n",
       "    <tr style=\"text-align: right;\">\n",
       "      <th></th>\n",
       "      <th>adaboost</th>\n",
       "      <th>gbc</th>\n",
       "      <th>l1</th>\n",
       "      <th>l2</th>\n",
       "    </tr>\n",
       "  </thead>\n",
       "  <tbody>\n",
       "    <tr>\n",
       "      <th>0</th>\n",
       "      <td>0.0</td>\n",
       "      <td>0.0</td>\n",
       "      <td>0.0</td>\n",
       "      <td>0.0</td>\n",
       "    </tr>\n",
       "    <tr>\n",
       "      <th>1</th>\n",
       "      <td>0.0</td>\n",
       "      <td>0.0</td>\n",
       "      <td>0.0</td>\n",
       "      <td>0.0</td>\n",
       "    </tr>\n",
       "    <tr>\n",
       "      <th>2</th>\n",
       "      <td>0.0</td>\n",
       "      <td>0.0</td>\n",
       "      <td>0.0</td>\n",
       "      <td>0.0</td>\n",
       "    </tr>\n",
       "    <tr>\n",
       "      <th>3</th>\n",
       "      <td>0.0</td>\n",
       "      <td>0.0</td>\n",
       "      <td>0.0</td>\n",
       "      <td>0.0</td>\n",
       "    </tr>\n",
       "    <tr>\n",
       "      <th>4</th>\n",
       "      <td>0.0</td>\n",
       "      <td>0.0</td>\n",
       "      <td>0.0</td>\n",
       "      <td>0.0</td>\n",
       "    </tr>\n",
       "  </tbody>\n",
       "</table>\n",
       "</div>"
      ],
      "text/plain": [
       "   adaboost  gbc   l1   l2\n",
       "0       0.0  0.0  0.0  0.0\n",
       "1       0.0  0.0  0.0  0.0\n",
       "2       0.0  0.0  0.0  0.0\n",
       "3       0.0  0.0  0.0  0.0\n",
       "4       0.0  0.0  0.0  0.0"
      ]
     },
     "execution_count": 229,
     "metadata": {},
     "output_type": "execute_result"
    }
   ],
   "source": [
    "base_predictions_train = pd.DataFrame( {\n",
    "     modelsToRun[0]: oof_train0.ravel(),\n",
    "     modelsToRun[1]: oof_train1.ravel(),\n",
    "     modelsToRun[2]: oof_train2.ravel(),\n",
    "     modelsToRun[3]: oof_train3.ravel()\n",
    "    })\n",
    "base_predictions_train.head()"
   ]
  },
  {
   "cell_type": "markdown",
   "metadata": {
    "_cell_guid": "f69c11db-d84e-8536-4c7e-382fbe67483e",
    "_uuid": "2a6f987bd9b8ffc32a72e21cb8c43a6bc43ba200"
   },
   "source": [
    "**Correlation Heatmap of the Second Level Training set**"
   ]
  },
  {
   "cell_type": "code",
   "execution_count": 230,
   "metadata": {
    "_cell_guid": "4cf590ee-133f-6487-cf5a-53f346893d1c",
    "_uuid": "9714ecaedf7385c5b8ad346ab909215eb9f2abc6"
   },
   "outputs": [
    {
     "data": {
      "application/vnd.plotly.v1+json": {
       "config": {
        "linkText": "Export to plot.ly",
        "plotlyServerURL": "https://plot.ly",
        "showLink": false
       },
       "data": [
        {
         "colorscale": "Viridis",
         "reversescale": true,
         "showscale": true,
         "type": "heatmap",
         "uid": "d8e620c0-e447-475a-aed6-74fd47dd7211",
         "x": [
          "adaboost",
          "gbc",
          "l1",
          "l2"
         ],
         "y": [
          "adaboost",
          "gbc",
          "l1",
          "l2"
         ],
         "z": [
          [
           1,
           0.5543781672875326,
           0.17484093891397387,
           0.17484093891397387
          ],
          [
           0.5543781672875326,
           1,
           0.16085586864726492,
           0.16085586864726492
          ],
          [
           0.17484093891397387,
           0.16085586864726492,
           1,
           1
          ],
          [
           0.17484093891397387,
           0.16085586864726492,
           1,
           1
          ]
         ]
        }
       ],
       "layout": {}
      },
      "text/html": [
       "<div id=\"39a48a51-8d8c-4623-b07b-6772f01a7c13\" style=\"height: 525px; width: 100%;\" class=\"plotly-graph-div\"></div><script type=\"text/javascript\">require([\"plotly\"], function(Plotly) { window.PLOTLYENV=window.PLOTLYENV || {};window.PLOTLYENV.BASE_URL=\"https://plot.ly\";Plotly.newPlot(\"39a48a51-8d8c-4623-b07b-6772f01a7c13\", [{\"uid\": \"bca5769c-7b70-4c8a-8f30-2078d48a442f\", \"colorscale\": \"Viridis\", \"reversescale\": true, \"showscale\": true, \"y\": [\"adaboost\", \"gbc\", \"l1\", \"l2\"], \"x\": [\"adaboost\", \"gbc\", \"l1\", \"l2\"], \"z\": [[1.0, 0.5543781672875326, 0.17484093891397387, 0.17484093891397387], [0.5543781672875326, 1.0, 0.16085586864726492, 0.16085586864726492], [0.17484093891397387, 0.16085586864726492, 1.0, 1.0], [0.17484093891397387, 0.16085586864726492, 1.0, 1.0]], \"type\": \"heatmap\"}], {}, {\"plotlyServerURL\": \"https://plot.ly\", \"linkText\": \"Export to plot.ly\", \"showLink\": false})});</script><script type=\"text/javascript\">window.addEventListener(\"resize\", function(){window._Plotly.Plots.resize(document.getElementById(\"39a48a51-8d8c-4623-b07b-6772f01a7c13\"));});</script>"
      ],
      "text/vnd.plotly.v1+html": [
       "<div id=\"39a48a51-8d8c-4623-b07b-6772f01a7c13\" style=\"height: 525px; width: 100%;\" class=\"plotly-graph-div\"></div><script type=\"text/javascript\">require([\"plotly\"], function(Plotly) { window.PLOTLYENV=window.PLOTLYENV || {};window.PLOTLYENV.BASE_URL=\"https://plot.ly\";Plotly.newPlot(\"39a48a51-8d8c-4623-b07b-6772f01a7c13\", [{\"uid\": \"bca5769c-7b70-4c8a-8f30-2078d48a442f\", \"colorscale\": \"Viridis\", \"reversescale\": true, \"showscale\": true, \"y\": [\"adaboost\", \"gbc\", \"l1\", \"l2\"], \"x\": [\"adaboost\", \"gbc\", \"l1\", \"l2\"], \"z\": [[1.0, 0.5543781672875326, 0.17484093891397387, 0.17484093891397387], [0.5543781672875326, 1.0, 0.16085586864726492, 0.16085586864726492], [0.17484093891397387, 0.16085586864726492, 1.0, 1.0], [0.17484093891397387, 0.16085586864726492, 1.0, 1.0]], \"type\": \"heatmap\"}], {}, {\"plotlyServerURL\": \"https://plot.ly\", \"linkText\": \"Export to plot.ly\", \"showLink\": false})});</script><script type=\"text/javascript\">window.addEventListener(\"resize\", function(){window._Plotly.Plots.resize(document.getElementById(\"39a48a51-8d8c-4623-b07b-6772f01a7c13\"));});</script>"
      ]
     },
     "metadata": {},
     "output_type": "display_data"
    }
   ],
   "source": [
    "data = [\n",
    "    go.Heatmap(\n",
    "        z= base_predictions_train.astype(float).corr().values ,\n",
    "        x=base_predictions_train.columns.values,\n",
    "        y= base_predictions_train.columns.values,\n",
    "          colorscale='Viridis',\n",
    "            showscale=True,\n",
    "            reversescale = True\n",
    "    )\n",
    "]\n",
    "py.iplot(data, filename='labelled-heatmap')"
   ]
  },
  {
   "cell_type": "markdown",
   "metadata": {
    "_cell_guid": "4d6b61c0-5d72-b02a-3b37-cbf6518d71b6",
    "_uuid": "4d9ef0298b568e43da6925f385403e0d77bd6e33"
   },
   "source": []
  },
  {
   "cell_type": "code",
   "execution_count": 231,
   "metadata": {
    "_cell_guid": "6685fa11-497f-3fc2-ab1f-97f92d6eca61",
    "_uuid": "fef365199854ca3fff754399b4699d941b7e43b8"
   },
   "outputs": [],
   "source": [
    "x_train = np.concatenate(( oof_train0, oof_train1, oof_train2, oof_train3, oof_train4, ), axis=1)\n",
    "x_test = np.concatenate(( oof_test0, oof_test1, oof_test2, oof_test3, oof_test4, ), axis=1)"
   ]
  },
  {
   "cell_type": "markdown",
   "metadata": {
    "_cell_guid": "a02a94ab-3c9c-a824-7168-e964c5a0f5d5",
    "_uuid": "65727ae393d3f7118215fde76e4fd5a9d0e9dd6c"
   },
   "source": []
  },
  {
   "cell_type": "markdown",
   "metadata": {
    "_cell_guid": "628a03ea-933c-7075-a589-0ff7af237dfd",
    "_uuid": "dc4a32e9a8e7c9e611124cba676e5d28240b38be"
   },
   "source": [
    "### Second level learning model \n",
    "\n",
    "\n",
    "  [1]: https://xgboost.readthedocs.io/en/latest/\n",
    "\n"
   ]
  },
  {
   "cell_type": "code",
   "execution_count": 232,
   "metadata": {
    "_cell_guid": "3a7c7517-b9a3-3a21-3a7b-299ca37c6843",
    "_uuid": "5155d370069fe6de0fe5105309342ce55130dae8"
   },
   "outputs": [],
   "source": [
    "gbm = xgb.XGBClassifier(\n",
    "    #learning_rate = 0.02,\n",
    " n_estimators= 2000,\n",
    " max_depth= 4,\n",
    " min_child_weight= 2,\n",
    " #gamma=1,\n",
    " gamma=0.9,                        \n",
    " subsample=0.8,\n",
    " colsample_bytree=0.8,\n",
    " objective= 'binary:logistic',\n",
    " nthread= -1,\n",
    " scale_pos_weight=1).fit(x_train, y_train)\n",
    "\n",
    "\n",
    "predictions = gbm.predict(x_test)"
   ]
  },
  {
   "cell_type": "code",
   "execution_count": 233,
   "metadata": {
    "_cell_guid": "f5a31787-5fe1-a559-bee9-ad6b6d83ae14",
    "_uuid": "9d607d829dbadd6c72ee01c9735a642435eb53e6"
   },
   "outputs": [],
   "source": [
    "\n",
    "score = calcScores(gbm,'gbm',{}, None, x_test, y_test, runTime=None, goals=None)\n",
    "\n",
    "\n"
   ]
  },
  {
   "cell_type": "code",
   "execution_count": 234,
   "metadata": {},
   "outputs": [
    {
     "name": "stdout",
     "output_type": "stream",
     "text": [
      "Scores:\n",
      "\n",
      "    Auroc=0.551  rocauc=0.551  fbeta=0.424  recall=0.072  precision=0.609  Run Time(M)=0.000\n",
      "\n",
      "    Best Score=0.000\n",
      "    Best Params={}\n",
      "    Goals= Precision of 0.609 beats 0.386,  \n",
      "\n"
     ]
    },
    {
     "data": {
      "image/png": "[encoded data removed]",
      "text/plain": [
       "<Figure size 432x288 with 2 Axes>"
      ]
     },
     "metadata": {
      "needs_background": "light"
     },
     "output_type": "display_data"
    },
    {
     "name": "stdout",
     "output_type": "stream",
     "text": [
      "\n"
     ]
    },
    {
     "data": {
      "image/png": "[encoded data removed]",
      "text/plain": [
       "<Figure size 432x288 with 1 Axes>"
      ]
     },
     "metadata": {
      "needs_background": "light"
     },
     "output_type": "display_data"
    },
    {
     "data": {
      "text/html": [
       "<div>\n",
       "<style scoped>\n",
       "    .dataframe tbody tr th:only-of-type {\n",
       "        vertical-align: middle;\n",
       "    }\n",
       "\n",
       "    .dataframe tbody tr th {\n",
       "        vertical-align: top;\n",
       "    }\n",
       "\n",
       "    .dataframe thead th {\n",
       "        text-align: right;\n",
       "    }\n",
       "</style>\n",
       "<table border=\"1\" class=\"dataframe\">\n",
       "  <thead>\n",
       "    <tr style=\"text-align: right;\">\n",
       "      <th>target</th>\n",
       "    </tr>\n",
       "    <tr>\n",
       "      <th>goals</th>\n",
       "    </tr>\n",
       "  </thead>\n",
       "  <tbody>\n",
       "  </tbody>\n",
       "</table>\n",
       "</div>"
      ],
      "text/plain": [
       "Empty DataFrame\n",
       "Columns: []\n",
       "Index: []"
      ]
     },
     "metadata": {},
     "output_type": "display_data"
    },
    {
     "data": {
      "text/html": [
       "<div>\n",
       "<style scoped>\n",
       "    .dataframe tbody tr th:only-of-type {\n",
       "        vertical-align: middle;\n",
       "    }\n",
       "\n",
       "    .dataframe tbody tr th {\n",
       "        vertical-align: top;\n",
       "    }\n",
       "\n",
       "    .dataframe thead th {\n",
       "        text-align: right;\n",
       "    }\n",
       "</style>\n",
       "<table border=\"1\" class=\"dataframe\">\n",
       "  <thead>\n",
       "    <tr style=\"text-align: right;\">\n",
       "      <th>predict</th>\n",
       "    </tr>\n",
       "    <tr>\n",
       "      <th>goals</th>\n",
       "    </tr>\n",
       "  </thead>\n",
       "  <tbody>\n",
       "  </tbody>\n",
       "</table>\n",
       "</div>"
      ],
      "text/plain": [
       "Empty DataFrame\n",
       "Columns: []\n",
       "Index: []"
      ]
     },
     "metadata": {},
     "output_type": "display_data"
    }
   ],
   "source": [
    "score.printScores()\n",
    "score.plotConfusionMatrix()\n",
    "score.plotroc()\n",
    "score.plotResults()\n"
   ]
  },
  {
   "cell_type": "code",
   "execution_count": 235,
   "metadata": {
    "_cell_guid": "1e56c738-b8f3-95e4-d642-c483f9757ed8",
    "_uuid": "9db5fd7cbb0d406ab0ef9aa08cf56532c51ec8b5"
   },
   "outputs": [],
   "source": [
    "todo = ['l1','l2','rfc','gbc','bagging','adaboost','gaussiannb','decisiontree','kneighbors','sgd']\n",
    "\n",
    "models = {'l1':LogisticRegression(penalty='l1', random_state=SEED, n_jobs=-2), \n",
    "          'l2': LogisticRegression(penalty='l2', random_state=SEED, n_jobs=-2), \n",
    "          'rfc': RandomForestClassifier(random_state=SEED, n_jobs=-2), \n",
    "          'gbc': GradientBoostingClassifier(random_state=SEED),\n",
    "          'decisiontree': DecisionTreeClassifier(random_state=SEED),\n",
    "          'kneighbors': KNeighborsClassifier(n_jobs=-2), \n",
    "          'sgd': SGDClassifier(random_state=SEED, n_jobs=-2),\n",
    "          'bagging': BaggingClassifier(random_state=SEED, n_jobs=-2),\n",
    "          'adaboost': AdaBoostClassifier(random_state=SEED),\n",
    "          'gaussiannb': GaussianNB()\n",
    "          }\n",
    "\n"
   ]
  },
  {
   "cell_type": "code",
   "execution_count": 236,
   "metadata": {
    "_cell_guid": "9a8f83fd-d0e8-035a-cf7f-25c9012e9373",
    "_uuid": "c32d1d64e1a5f8fbe5f51a0a7afd952ccfdec57e",
    "scrolled": false
   },
   "outputs": [
    {
     "name": "stdout",
     "output_type": "stream",
     "text": [
      "Fitting  l1\n",
      "Scores:\n",
      "\n",
      "    Auroc=0.609  rocauc=0.609  fbeta=0.395  recall=0.059  precision=0.614  Run Time(M)=0.000\n",
      "\n",
      "    Best Score=0.000\n",
      "    Best Params={}\n",
      "    Goals= Precision of 0.614 beats 0.386,  \n",
      "\n"
     ]
    },
    {
     "data": {
      "image/png": "[encoded data removed]",
      "text/plain": [
       "<Figure size 432x288 with 2 Axes>"
      ]
     },
     "metadata": {
      "needs_background": "light"
     },
     "output_type": "display_data"
    },
    {
     "name": "stdout",
     "output_type": "stream",
     "text": [
      "\n"
     ]
    },
    {
     "data": {
      "image/png": "[encoded data removed]",
      "text/plain": [
       "<Figure size 432x288 with 1 Axes>"
      ]
     },
     "metadata": {
      "needs_background": "light"
     },
     "output_type": "display_data"
    },
    {
     "data": {
      "text/html": [
       "<div>\n",
       "<style scoped>\n",
       "    .dataframe tbody tr th:only-of-type {\n",
       "        vertical-align: middle;\n",
       "    }\n",
       "\n",
       "    .dataframe tbody tr th {\n",
       "        vertical-align: top;\n",
       "    }\n",
       "\n",
       "    .dataframe thead th {\n",
       "        text-align: right;\n",
       "    }\n",
       "</style>\n",
       "<table border=\"1\" class=\"dataframe\">\n",
       "  <thead>\n",
       "    <tr style=\"text-align: right;\">\n",
       "      <th>target</th>\n",
       "    </tr>\n",
       "    <tr>\n",
       "      <th>goals</th>\n",
       "    </tr>\n",
       "  </thead>\n",
       "  <tbody>\n",
       "  </tbody>\n",
       "</table>\n",
       "</div>"
      ],
      "text/plain": [
       "Empty DataFrame\n",
       "Columns: []\n",
       "Index: []"
      ]
     },
     "metadata": {},
     "output_type": "display_data"
    },
    {
     "data": {
      "text/html": [
       "<div>\n",
       "<style scoped>\n",
       "    .dataframe tbody tr th:only-of-type {\n",
       "        vertical-align: middle;\n",
       "    }\n",
       "\n",
       "    .dataframe tbody tr th {\n",
       "        vertical-align: top;\n",
       "    }\n",
       "\n",
       "    .dataframe thead th {\n",
       "        text-align: right;\n",
       "    }\n",
       "</style>\n",
       "<table border=\"1\" class=\"dataframe\">\n",
       "  <thead>\n",
       "    <tr style=\"text-align: right;\">\n",
       "      <th>predict</th>\n",
       "    </tr>\n",
       "    <tr>\n",
       "      <th>goals</th>\n",
       "    </tr>\n",
       "  </thead>\n",
       "  <tbody>\n",
       "  </tbody>\n",
       "</table>\n",
       "</div>"
      ],
      "text/plain": [
       "Empty DataFrame\n",
       "Columns: []\n",
       "Index: []"
      ]
     },
     "metadata": {},
     "output_type": "display_data"
    },
    {
     "name": "stdout",
     "output_type": "stream",
     "text": [
      "Fitting  l2\n",
      "Scores:\n",
      "\n",
      "    Auroc=0.609  rocauc=0.609  fbeta=0.395  recall=0.059  precision=0.613  Run Time(M)=0.000\n",
      "\n",
      "    Best Score=0.000\n",
      "    Best Params={}\n",
      "    Goals= Precision of 0.613 beats 0.386,  \n",
      "\n"
     ]
    },
    {
     "data": {
      "image/png": "[encoded data removed]",
      "text/plain": [
       "<Figure size 432x288 with 2 Axes>"
      ]
     },
     "metadata": {
      "needs_background": "light"
     },
     "output_type": "display_data"
    },
    {
     "name": "stdout",
     "output_type": "stream",
     "text": [
      "\n"
     ]
    },
    {
     "data": {
      "image/png": "[encoded data removed]",
      "text/plain": [
       "<Figure size 432x288 with 1 Axes>"
      ]
     },
     "metadata": {
      "needs_background": "light"
     },
     "output_type": "display_data"
    },
    {
     "data": {
      "text/html": [
       "<div>\n",
       "<style scoped>\n",
       "    .dataframe tbody tr th:only-of-type {\n",
       "        vertical-align: middle;\n",
       "    }\n",
       "\n",
       "    .dataframe tbody tr th {\n",
       "        vertical-align: top;\n",
       "    }\n",
       "\n",
       "    .dataframe thead th {\n",
       "        text-align: right;\n",
       "    }\n",
       "</style>\n",
       "<table border=\"1\" class=\"dataframe\">\n",
       "  <thead>\n",
       "    <tr style=\"text-align: right;\">\n",
       "      <th>target</th>\n",
       "    </tr>\n",
       "    <tr>\n",
       "      <th>goals</th>\n",
       "    </tr>\n",
       "  </thead>\n",
       "  <tbody>\n",
       "  </tbody>\n",
       "</table>\n",
       "</div>"
      ],
      "text/plain": [
       "Empty DataFrame\n",
       "Columns: []\n",
       "Index: []"
      ]
     },
     "metadata": {},
     "output_type": "display_data"
    },
    {
     "data": {
      "text/html": [
       "<div>\n",
       "<style scoped>\n",
       "    .dataframe tbody tr th:only-of-type {\n",
       "        vertical-align: middle;\n",
       "    }\n",
       "\n",
       "    .dataframe tbody tr th {\n",
       "        vertical-align: top;\n",
       "    }\n",
       "\n",
       "    .dataframe thead th {\n",
       "        text-align: right;\n",
       "    }\n",
       "</style>\n",
       "<table border=\"1\" class=\"dataframe\">\n",
       "  <thead>\n",
       "    <tr style=\"text-align: right;\">\n",
       "      <th>predict</th>\n",
       "    </tr>\n",
       "    <tr>\n",
       "      <th>goals</th>\n",
       "    </tr>\n",
       "  </thead>\n",
       "  <tbody>\n",
       "  </tbody>\n",
       "</table>\n",
       "</div>"
      ],
      "text/plain": [
       "Empty DataFrame\n",
       "Columns: []\n",
       "Index: []"
      ]
     },
     "metadata": {},
     "output_type": "display_data"
    },
    {
     "name": "stdout",
     "output_type": "stream",
     "text": [
      "Fitting  rfc\n",
      "Scores:\n",
      "\n",
      "    Auroc=0.551  rocauc=0.551  fbeta=0.420  recall=0.070  precision=0.611  Run Time(M)=0.000\n",
      "\n",
      "    Best Score=0.000\n",
      "    Best Params={}\n",
      "    Goals= Precision of 0.611 beats 0.386,  \n",
      "\n"
     ]
    },
    {
     "data": {
      "image/png": "[encoded data removed]",
      "text/plain": [
       "<Figure size 432x288 with 2 Axes>"
      ]
     },
     "metadata": {
      "needs_background": "light"
     },
     "output_type": "display_data"
    },
    {
     "name": "stdout",
     "output_type": "stream",
     "text": [
      "\n"
     ]
    },
    {
     "data": {
      "image/png": "[encoded data removed]",
      "text/plain": [
       "<Figure size 432x288 with 1 Axes>"
      ]
     },
     "metadata": {
      "needs_background": "light"
     },
     "output_type": "display_data"
    },
    {
     "data": {
      "text/html": [
       "<div>\n",
       "<style scoped>\n",
       "    .dataframe tbody tr th:only-of-type {\n",
       "        vertical-align: middle;\n",
       "    }\n",
       "\n",
       "    .dataframe tbody tr th {\n",
       "        vertical-align: top;\n",
       "    }\n",
       "\n",
       "    .dataframe thead th {\n",
       "        text-align: right;\n",
       "    }\n",
       "</style>\n",
       "<table border=\"1\" class=\"dataframe\">\n",
       "  <thead>\n",
       "    <tr style=\"text-align: right;\">\n",
       "      <th>target</th>\n",
       "    </tr>\n",
       "    <tr>\n",
       "      <th>goals</th>\n",
       "    </tr>\n",
       "  </thead>\n",
       "  <tbody>\n",
       "  </tbody>\n",
       "</table>\n",
       "</div>"
      ],
      "text/plain": [
       "Empty DataFrame\n",
       "Columns: []\n",
       "Index: []"
      ]
     },
     "metadata": {},
     "output_type": "display_data"
    },
    {
     "data": {
      "text/html": [
       "<div>\n",
       "<style scoped>\n",
       "    .dataframe tbody tr th:only-of-type {\n",
       "        vertical-align: middle;\n",
       "    }\n",
       "\n",
       "    .dataframe tbody tr th {\n",
       "        vertical-align: top;\n",
       "    }\n",
       "\n",
       "    .dataframe thead th {\n",
       "        text-align: right;\n",
       "    }\n",
       "</style>\n",
       "<table border=\"1\" class=\"dataframe\">\n",
       "  <thead>\n",
       "    <tr style=\"text-align: right;\">\n",
       "      <th>predict</th>\n",
       "    </tr>\n",
       "    <tr>\n",
       "      <th>goals</th>\n",
       "    </tr>\n",
       "  </thead>\n",
       "  <tbody>\n",
       "  </tbody>\n",
       "</table>\n",
       "</div>"
      ],
      "text/plain": [
       "Empty DataFrame\n",
       "Columns: []\n",
       "Index: []"
      ]
     },
     "metadata": {},
     "output_type": "display_data"
    },
    {
     "name": "stdout",
     "output_type": "stream",
     "text": [
      "Fitting  gbc\n",
      "Scores:\n",
      "\n",
      "    Auroc=0.551  rocauc=0.551  fbeta=0.424  recall=0.072  precision=0.610  Run Time(M)=0.000\n",
      "\n",
      "    Best Score=0.000\n",
      "    Best Params={}\n",
      "    Goals= Precision of 0.610 beats 0.386,  \n",
      "\n"
     ]
    },
    {
     "data": {
      "image/png": "[encoded data removed]",
      "text/plain": [
       "<Figure size 432x288 with 2 Axes>"
      ]
     },
     "metadata": {
      "needs_background": "light"
     },
     "output_type": "display_data"
    },
    {
     "name": "stdout",
     "output_type": "stream",
     "text": [
      "\n"
     ]
    },
    {
     "data": {
      "image/png": "[encoded data removed]",
      "text/plain": [
       "<Figure size 432x288 with 1 Axes>"
      ]
     },
     "metadata": {
      "needs_background": "light"
     },
     "output_type": "display_data"
    },
    {
     "data": {
      "text/html": [
       "<div>\n",
       "<style scoped>\n",
       "    .dataframe tbody tr th:only-of-type {\n",
       "        vertical-align: middle;\n",
       "    }\n",
       "\n",
       "    .dataframe tbody tr th {\n",
       "        vertical-align: top;\n",
       "    }\n",
       "\n",
       "    .dataframe thead th {\n",
       "        text-align: right;\n",
       "    }\n",
       "</style>\n",
       "<table border=\"1\" class=\"dataframe\">\n",
       "  <thead>\n",
       "    <tr style=\"text-align: right;\">\n",
       "      <th>target</th>\n",
       "    </tr>\n",
       "    <tr>\n",
       "      <th>goals</th>\n",
       "    </tr>\n",
       "  </thead>\n",
       "  <tbody>\n",
       "  </tbody>\n",
       "</table>\n",
       "</div>"
      ],
      "text/plain": [
       "Empty DataFrame\n",
       "Columns: []\n",
       "Index: []"
      ]
     },
     "metadata": {},
     "output_type": "display_data"
    },
    {
     "data": {
      "text/html": [
       "<div>\n",
       "<style scoped>\n",
       "    .dataframe tbody tr th:only-of-type {\n",
       "        vertical-align: middle;\n",
       "    }\n",
       "\n",
       "    .dataframe tbody tr th {\n",
       "        vertical-align: top;\n",
       "    }\n",
       "\n",
       "    .dataframe thead th {\n",
       "        text-align: right;\n",
       "    }\n",
       "</style>\n",
       "<table border=\"1\" class=\"dataframe\">\n",
       "  <thead>\n",
       "    <tr style=\"text-align: right;\">\n",
       "      <th>predict</th>\n",
       "    </tr>\n",
       "    <tr>\n",
       "      <th>goals</th>\n",
       "    </tr>\n",
       "  </thead>\n",
       "  <tbody>\n",
       "  </tbody>\n",
       "</table>\n",
       "</div>"
      ],
      "text/plain": [
       "Empty DataFrame\n",
       "Columns: []\n",
       "Index: []"
      ]
     },
     "metadata": {},
     "output_type": "display_data"
    },
    {
     "name": "stdout",
     "output_type": "stream",
     "text": [
      "Fitting  bagging\n",
      "Scores:\n",
      "\n",
      "    Auroc=0.551  rocauc=0.551  fbeta=0.420  recall=0.070  precision=0.611  Run Time(M)=0.000\n",
      "\n",
      "    Best Score=0.000\n",
      "    Best Params={}\n",
      "    Goals= Precision of 0.611 beats 0.386,  \n",
      "\n"
     ]
    },
    {
     "data": {
      "image/png": "[encoded data removed]",
      "text/plain": [
       "<Figure size 432x288 with 2 Axes>"
      ]
     },
     "metadata": {
      "needs_background": "light"
     },
     "output_type": "display_data"
    },
    {
     "name": "stdout",
     "output_type": "stream",
     "text": [
      "\n"
     ]
    },
    {
     "data": {
      "image/png": "[encoded data removed]",
      "text/plain": [
       "<Figure size 432x288 with 1 Axes>"
      ]
     },
     "metadata": {
      "needs_background": "light"
     },
     "output_type": "display_data"
    },
    {
     "data": {
      "text/html": [
       "<div>\n",
       "<style scoped>\n",
       "    .dataframe tbody tr th:only-of-type {\n",
       "        vertical-align: middle;\n",
       "    }\n",
       "\n",
       "    .dataframe tbody tr th {\n",
       "        vertical-align: top;\n",
       "    }\n",
       "\n",
       "    .dataframe thead th {\n",
       "        text-align: right;\n",
       "    }\n",
       "</style>\n",
       "<table border=\"1\" class=\"dataframe\">\n",
       "  <thead>\n",
       "    <tr style=\"text-align: right;\">\n",
       "      <th>target</th>\n",
       "    </tr>\n",
       "    <tr>\n",
       "      <th>goals</th>\n",
       "    </tr>\n",
       "  </thead>\n",
       "  <tbody>\n",
       "  </tbody>\n",
       "</table>\n",
       "</div>"
      ],
      "text/plain": [
       "Empty DataFrame\n",
       "Columns: []\n",
       "Index: []"
      ]
     },
     "metadata": {},
     "output_type": "display_data"
    },
    {
     "data": {
      "text/html": [
       "<div>\n",
       "<style scoped>\n",
       "    .dataframe tbody tr th:only-of-type {\n",
       "        vertical-align: middle;\n",
       "    }\n",
       "\n",
       "    .dataframe tbody tr th {\n",
       "        vertical-align: top;\n",
       "    }\n",
       "\n",
       "    .dataframe thead th {\n",
       "        text-align: right;\n",
       "    }\n",
       "</style>\n",
       "<table border=\"1\" class=\"dataframe\">\n",
       "  <thead>\n",
       "    <tr style=\"text-align: right;\">\n",
       "      <th>predict</th>\n",
       "    </tr>\n",
       "    <tr>\n",
       "      <th>goals</th>\n",
       "    </tr>\n",
       "  </thead>\n",
       "  <tbody>\n",
       "  </tbody>\n",
       "</table>\n",
       "</div>"
      ],
      "text/plain": [
       "Empty DataFrame\n",
       "Columns: []\n",
       "Index: []"
      ]
     },
     "metadata": {},
     "output_type": "display_data"
    },
    {
     "name": "stdout",
     "output_type": "stream",
     "text": [
      "Fitting  adaboost\n",
      "Scores:\n",
      "\n",
      "    Auroc=0.551  rocauc=0.551  fbeta=0.409  recall=0.066  precision=0.603  Run Time(M)=0.000\n",
      "\n",
      "    Best Score=0.000\n",
      "    Best Params={}\n",
      "    Goals= Precision of 0.603 beats 0.386,  \n",
      "\n"
     ]
    },
    {
     "data": {
      "image/png": "[encoded data removed]",
      "text/plain": [
       "<Figure size 432x288 with 2 Axes>"
      ]
     },
     "metadata": {
      "needs_background": "light"
     },
     "output_type": "display_data"
    },
    {
     "name": "stdout",
     "output_type": "stream",
     "text": [
      "\n"
     ]
    },
    {
     "data": {
      "image/png": "[encoded data removed]",
      "text/plain": [
       "<Figure size 432x288 with 1 Axes>"
      ]
     },
     "metadata": {
      "needs_background": "light"
     },
     "output_type": "display_data"
    },
    {
     "data": {
      "text/html": [
       "<div>\n",
       "<style scoped>\n",
       "    .dataframe tbody tr th:only-of-type {\n",
       "        vertical-align: middle;\n",
       "    }\n",
       "\n",
       "    .dataframe tbody tr th {\n",
       "        vertical-align: top;\n",
       "    }\n",
       "\n",
       "    .dataframe thead th {\n",
       "        text-align: right;\n",
       "    }\n",
       "</style>\n",
       "<table border=\"1\" class=\"dataframe\">\n",
       "  <thead>\n",
       "    <tr style=\"text-align: right;\">\n",
       "      <th>target</th>\n",
       "    </tr>\n",
       "    <tr>\n",
       "      <th>goals</th>\n",
       "    </tr>\n",
       "  </thead>\n",
       "  <tbody>\n",
       "  </tbody>\n",
       "</table>\n",
       "</div>"
      ],
      "text/plain": [
       "Empty DataFrame\n",
       "Columns: []\n",
       "Index: []"
      ]
     },
     "metadata": {},
     "output_type": "display_data"
    },
    {
     "data": {
      "text/html": [
       "<div>\n",
       "<style scoped>\n",
       "    .dataframe tbody tr th:only-of-type {\n",
       "        vertical-align: middle;\n",
       "    }\n",
       "\n",
       "    .dataframe tbody tr th {\n",
       "        vertical-align: top;\n",
       "    }\n",
       "\n",
       "    .dataframe thead th {\n",
       "        text-align: right;\n",
       "    }\n",
       "</style>\n",
       "<table border=\"1\" class=\"dataframe\">\n",
       "  <thead>\n",
       "    <tr style=\"text-align: right;\">\n",
       "      <th>predict</th>\n",
       "    </tr>\n",
       "    <tr>\n",
       "      <th>goals</th>\n",
       "    </tr>\n",
       "  </thead>\n",
       "  <tbody>\n",
       "  </tbody>\n",
       "</table>\n",
       "</div>"
      ],
      "text/plain": [
       "Empty DataFrame\n",
       "Columns: []\n",
       "Index: []"
      ]
     },
     "metadata": {},
     "output_type": "display_data"
    },
    {
     "name": "stdout",
     "output_type": "stream",
     "text": [
      "Fitting  gaussiannb\n",
      "Scores:\n",
      "\n",
      "    Auroc=0.609  rocauc=0.609  fbeta=0.454  recall=0.134  precision=0.534  Run Time(M)=0.000\n",
      "\n",
      "    Best Score=0.000\n",
      "    Best Params={}\n",
      "    Goals= Precision of 0.534 beats 0.386,  fbeta of 0.454 beats 0.440,  \n",
      "\n"
     ]
    },
    {
     "data": {
      "image/png": "[encoded data removed]",
      "text/plain": [
       "<Figure size 432x288 with 2 Axes>"
      ]
     },
     "metadata": {
      "needs_background": "light"
     },
     "output_type": "display_data"
    },
    {
     "name": "stdout",
     "output_type": "stream",
     "text": [
      "\n"
     ]
    },
    {
     "data": {
      "image/png": "[encoded data removed]",
      "text/plain": [
       "<Figure size 432x288 with 1 Axes>"
      ]
     },
     "metadata": {
      "needs_background": "light"
     },
     "output_type": "display_data"
    },
    {
     "data": {
      "text/html": [
       "<div>\n",
       "<style scoped>\n",
       "    .dataframe tbody tr th:only-of-type {\n",
       "        vertical-align: middle;\n",
       "    }\n",
       "\n",
       "    .dataframe tbody tr th {\n",
       "        vertical-align: top;\n",
       "    }\n",
       "\n",
       "    .dataframe thead th {\n",
       "        text-align: right;\n",
       "    }\n",
       "</style>\n",
       "<table border=\"1\" class=\"dataframe\">\n",
       "  <thead>\n",
       "    <tr style=\"text-align: right;\">\n",
       "      <th>target</th>\n",
       "    </tr>\n",
       "    <tr>\n",
       "      <th>goals</th>\n",
       "    </tr>\n",
       "  </thead>\n",
       "  <tbody>\n",
       "  </tbody>\n",
       "</table>\n",
       "</div>"
      ],
      "text/plain": [
       "Empty DataFrame\n",
       "Columns: []\n",
       "Index: []"
      ]
     },
     "metadata": {},
     "output_type": "display_data"
    },
    {
     "data": {
      "text/html": [
       "<div>\n",
       "<style scoped>\n",
       "    .dataframe tbody tr th:only-of-type {\n",
       "        vertical-align: middle;\n",
       "    }\n",
       "\n",
       "    .dataframe tbody tr th {\n",
       "        vertical-align: top;\n",
       "    }\n",
       "\n",
       "    .dataframe thead th {\n",
       "        text-align: right;\n",
       "    }\n",
       "</style>\n",
       "<table border=\"1\" class=\"dataframe\">\n",
       "  <thead>\n",
       "    <tr style=\"text-align: right;\">\n",
       "      <th>predict</th>\n",
       "    </tr>\n",
       "    <tr>\n",
       "      <th>goals</th>\n",
       "    </tr>\n",
       "  </thead>\n",
       "  <tbody>\n",
       "  </tbody>\n",
       "</table>\n",
       "</div>"
      ],
      "text/plain": [
       "Empty DataFrame\n",
       "Columns: []\n",
       "Index: []"
      ]
     },
     "metadata": {},
     "output_type": "display_data"
    },
    {
     "name": "stdout",
     "output_type": "stream",
     "text": [
      "Fitting  decisiontree\n",
      "Scores:\n",
      "\n",
      "    Auroc=0.551  rocauc=0.551  fbeta=0.424  recall=0.072  precision=0.610  Run Time(M)=0.000\n",
      "\n",
      "    Best Score=0.000\n",
      "    Best Params={}\n",
      "    Goals= Precision of 0.610 beats 0.386,  \n",
      "\n"
     ]
    },
    {
     "data": {
      "image/png": "[encoded data removed]",
      "text/plain": [
       "<Figure size 432x288 with 2 Axes>"
      ]
     },
     "metadata": {
      "needs_background": "light"
     },
     "output_type": "display_data"
    },
    {
     "name": "stdout",
     "output_type": "stream",
     "text": [
      "\n"
     ]
    },
    {
     "data": {
      "image/png": "[encoded data removed]",
      "text/plain": [
       "<Figure size 432x288 with 1 Axes>"
      ]
     },
     "metadata": {
      "needs_background": "light"
     },
     "output_type": "display_data"
    },
    {
     "data": {
      "text/html": [
       "<div>\n",
       "<style scoped>\n",
       "    .dataframe tbody tr th:only-of-type {\n",
       "        vertical-align: middle;\n",
       "    }\n",
       "\n",
       "    .dataframe tbody tr th {\n",
       "        vertical-align: top;\n",
       "    }\n",
       "\n",
       "    .dataframe thead th {\n",
       "        text-align: right;\n",
       "    }\n",
       "</style>\n",
       "<table border=\"1\" class=\"dataframe\">\n",
       "  <thead>\n",
       "    <tr style=\"text-align: right;\">\n",
       "      <th>target</th>\n",
       "    </tr>\n",
       "    <tr>\n",
       "      <th>goals</th>\n",
       "    </tr>\n",
       "  </thead>\n",
       "  <tbody>\n",
       "  </tbody>\n",
       "</table>\n",
       "</div>"
      ],
      "text/plain": [
       "Empty DataFrame\n",
       "Columns: []\n",
       "Index: []"
      ]
     },
     "metadata": {},
     "output_type": "display_data"
    },
    {
     "data": {
      "text/html": [
       "<div>\n",
       "<style scoped>\n",
       "    .dataframe tbody tr th:only-of-type {\n",
       "        vertical-align: middle;\n",
       "    }\n",
       "\n",
       "    .dataframe tbody tr th {\n",
       "        vertical-align: top;\n",
       "    }\n",
       "\n",
       "    .dataframe thead th {\n",
       "        text-align: right;\n",
       "    }\n",
       "</style>\n",
       "<table border=\"1\" class=\"dataframe\">\n",
       "  <thead>\n",
       "    <tr style=\"text-align: right;\">\n",
       "      <th>predict</th>\n",
       "    </tr>\n",
       "    <tr>\n",
       "      <th>goals</th>\n",
       "    </tr>\n",
       "  </thead>\n",
       "  <tbody>\n",
       "  </tbody>\n",
       "</table>\n",
       "</div>"
      ],
      "text/plain": [
       "Empty DataFrame\n",
       "Columns: []\n",
       "Index: []"
      ]
     },
     "metadata": {},
     "output_type": "display_data"
    },
    {
     "name": "stdout",
     "output_type": "stream",
     "text": [
      "Fitting  kneighbors\n",
      "Scores:\n",
      "\n",
      "    Auroc=0.464  rocauc=0.464  fbeta=0.328  recall=0.042  precision=0.573  Run Time(M)=0.000\n",
      "\n",
      "    Best Score=0.000\n",
      "    Best Params={}\n",
      "    Goals= Precision of 0.573 beats 0.386,  \n",
      "\n"
     ]
    },
    {
     "data": {
      "image/png": "[encoded data removed]",
      "text/plain": [
       "<Figure size 432x288 with 2 Axes>"
      ]
     },
     "metadata": {
      "needs_background": "light"
     },
     "output_type": "display_data"
    },
    {
     "name": "stdout",
     "output_type": "stream",
     "text": [
      "\n"
     ]
    },
    {
     "data": {
      "image/png": "[encoded data removed]",
      "text/plain": [
       "<Figure size 432x288 with 1 Axes>"
      ]
     },
     "metadata": {
      "needs_background": "light"
     },
     "output_type": "display_data"
    },
    {
     "data": {
      "text/html": [
       "<div>\n",
       "<style scoped>\n",
       "    .dataframe tbody tr th:only-of-type {\n",
       "        vertical-align: middle;\n",
       "    }\n",
       "\n",
       "    .dataframe tbody tr th {\n",
       "        vertical-align: top;\n",
       "    }\n",
       "\n",
       "    .dataframe thead th {\n",
       "        text-align: right;\n",
       "    }\n",
       "</style>\n",
       "<table border=\"1\" class=\"dataframe\">\n",
       "  <thead>\n",
       "    <tr style=\"text-align: right;\">\n",
       "      <th>target</th>\n",
       "    </tr>\n",
       "    <tr>\n",
       "      <th>goals</th>\n",
       "    </tr>\n",
       "  </thead>\n",
       "  <tbody>\n",
       "  </tbody>\n",
       "</table>\n",
       "</div>"
      ],
      "text/plain": [
       "Empty DataFrame\n",
       "Columns: []\n",
       "Index: []"
      ]
     },
     "metadata": {},
     "output_type": "display_data"
    },
    {
     "data": {
      "text/html": [
       "<div>\n",
       "<style scoped>\n",
       "    .dataframe tbody tr th:only-of-type {\n",
       "        vertical-align: middle;\n",
       "    }\n",
       "\n",
       "    .dataframe tbody tr th {\n",
       "        vertical-align: top;\n",
       "    }\n",
       "\n",
       "    .dataframe thead th {\n",
       "        text-align: right;\n",
       "    }\n",
       "</style>\n",
       "<table border=\"1\" class=\"dataframe\">\n",
       "  <thead>\n",
       "    <tr style=\"text-align: right;\">\n",
       "      <th>predict</th>\n",
       "    </tr>\n",
       "    <tr>\n",
       "      <th>goals</th>\n",
       "    </tr>\n",
       "  </thead>\n",
       "  <tbody>\n",
       "  </tbody>\n",
       "</table>\n",
       "</div>"
      ],
      "text/plain": [
       "Empty DataFrame\n",
       "Columns: []\n",
       "Index: []"
      ]
     },
     "metadata": {},
     "output_type": "display_data"
    },
    {
     "name": "stdout",
     "output_type": "stream",
     "text": [
      "Fitting  sgd\n",
      "Scores:\n",
      "\n",
      "    Auroc=0.000  rocauc=0.000  fbeta=0.426  recall=0.073  precision=0.611  Run Time(M)=0.000\n",
      "\n",
      "    Best Score=0.000\n",
      "    Best Params={}\n",
      "    Goals= Precision of 0.611 beats 0.386,  \n",
      "\n"
     ]
    },
    {
     "data": {
      "image/png": "[encoded data removed]",
      "text/plain": [
       "<Figure size 432x288 with 2 Axes>"
      ]
     },
     "metadata": {
      "needs_background": "light"
     },
     "output_type": "display_data"
    },
    {
     "name": "stdout",
     "output_type": "stream",
     "text": [
      "\n"
     ]
    },
    {
     "data": {
      "image/png": "[encoded data removed]",
      "text/plain": [
       "<Figure size 432x288 with 1 Axes>"
      ]
     },
     "metadata": {
      "needs_background": "light"
     },
     "output_type": "display_data"
    },
    {
     "data": {
      "text/html": [
       "<div>\n",
       "<style scoped>\n",
       "    .dataframe tbody tr th:only-of-type {\n",
       "        vertical-align: middle;\n",
       "    }\n",
       "\n",
       "    .dataframe tbody tr th {\n",
       "        vertical-align: top;\n",
       "    }\n",
       "\n",
       "    .dataframe thead th {\n",
       "        text-align: right;\n",
       "    }\n",
       "</style>\n",
       "<table border=\"1\" class=\"dataframe\">\n",
       "  <thead>\n",
       "    <tr style=\"text-align: right;\">\n",
       "      <th>target</th>\n",
       "    </tr>\n",
       "    <tr>\n",
       "      <th>goals</th>\n",
       "    </tr>\n",
       "  </thead>\n",
       "  <tbody>\n",
       "  </tbody>\n",
       "</table>\n",
       "</div>"
      ],
      "text/plain": [
       "Empty DataFrame\n",
       "Columns: []\n",
       "Index: []"
      ]
     },
     "metadata": {},
     "output_type": "display_data"
    },
    {
     "data": {
      "text/html": [
       "<div>\n",
       "<style scoped>\n",
       "    .dataframe tbody tr th:only-of-type {\n",
       "        vertical-align: middle;\n",
       "    }\n",
       "\n",
       "    .dataframe tbody tr th {\n",
       "        vertical-align: top;\n",
       "    }\n",
       "\n",
       "    .dataframe thead th {\n",
       "        text-align: right;\n",
       "    }\n",
       "</style>\n",
       "<table border=\"1\" class=\"dataframe\">\n",
       "  <thead>\n",
       "    <tr style=\"text-align: right;\">\n",
       "      <th>predict</th>\n",
       "    </tr>\n",
       "    <tr>\n",
       "      <th>goals</th>\n",
       "    </tr>\n",
       "  </thead>\n",
       "  <tbody>\n",
       "  </tbody>\n",
       "</table>\n",
       "</div>"
      ],
      "text/plain": [
       "Empty DataFrame\n",
       "Columns: []\n",
       "Index: []"
      ]
     },
     "metadata": {},
     "output_type": "display_data"
    }
   ],
   "source": [
    "for name in todo:\n",
    "  clf = models[name]\n",
    "  params = fixHyperparameters(hyperparameters_best[name],useList=False)\n",
    "  params = {}\n",
    "  clf.set_params(**params)\n",
    "  print ('Fitting ', name)\n",
    "  clf.fit(x_train, y_train)\n",
    "  score = calcScores(clf,name,params, None, x_test, y_test, runTime=None, goals=None)\n",
    "  score.printScores() \n",
    "  score.plotConfusionMatrix() \n",
    "  score.plotroc()\n",
    "  score.plotResults()\n"
   ]
  },
  {
   "cell_type": "code",
   "execution_count": 237,
   "metadata": {
    "_cell_guid": "74641376-e124-e46f-0e7c-8cbee2a1321b",
    "_uuid": "8549710f41f2ca55f11400e7914ed2f15c380964"
   },
   "outputs": [
    {
     "name": "stdout",
     "output_type": "stream",
     "text": [
      "Fitting  gaussiannb\n",
      "Scores:\n",
      "\n",
      "    Auroc=0.609  rocauc=0.609  fbeta=0.454  recall=0.134  precision=0.534  Run Time(M)=0.000\n",
      "\n",
      "    Best Score=0.000\n",
      "    Best Params={'var_smoothing': 0.01}\n",
      "    Goals= Precision of 0.534 beats 0.386,  fbeta of 0.454 beats 0.440,  \n",
      "\n"
     ]
    },
    {
     "data": {
      "image/png": "[encoded data removed]",
      "text/plain": [
       "<Figure size 432x288 with 2 Axes>"
      ]
     },
     "metadata": {
      "needs_background": "light"
     },
     "output_type": "display_data"
    },
    {
     "name": "stdout",
     "output_type": "stream",
     "text": [
      "\n"
     ]
    },
    {
     "data": {
      "image/png": "[encoded data removed]",
      "text/plain": [
       "<Figure size 432x288 with 1 Axes>"
      ]
     },
     "metadata": {
      "needs_background": "light"
     },
     "output_type": "display_data"
    },
    {
     "data": {
      "text/html": [
       "<div>\n",
       "<style scoped>\n",
       "    .dataframe tbody tr th:only-of-type {\n",
       "        vertical-align: middle;\n",
       "    }\n",
       "\n",
       "    .dataframe tbody tr th {\n",
       "        vertical-align: top;\n",
       "    }\n",
       "\n",
       "    .dataframe thead th {\n",
       "        text-align: right;\n",
       "    }\n",
       "</style>\n",
       "<table border=\"1\" class=\"dataframe\">\n",
       "  <thead>\n",
       "    <tr style=\"text-align: right;\">\n",
       "      <th>target</th>\n",
       "    </tr>\n",
       "    <tr>\n",
       "      <th>goals</th>\n",
       "    </tr>\n",
       "  </thead>\n",
       "  <tbody>\n",
       "  </tbody>\n",
       "</table>\n",
       "</div>"
      ],
      "text/plain": [
       "Empty DataFrame\n",
       "Columns: []\n",
       "Index: []"
      ]
     },
     "metadata": {},
     "output_type": "display_data"
    },
    {
     "data": {
      "text/html": [
       "<div>\n",
       "<style scoped>\n",
       "    .dataframe tbody tr th:only-of-type {\n",
       "        vertical-align: middle;\n",
       "    }\n",
       "\n",
       "    .dataframe tbody tr th {\n",
       "        vertical-align: top;\n",
       "    }\n",
       "\n",
       "    .dataframe thead th {\n",
       "        text-align: right;\n",
       "    }\n",
       "</style>\n",
       "<table border=\"1\" class=\"dataframe\">\n",
       "  <thead>\n",
       "    <tr style=\"text-align: right;\">\n",
       "      <th>predict</th>\n",
       "    </tr>\n",
       "    <tr>\n",
       "      <th>goals</th>\n",
       "    </tr>\n",
       "  </thead>\n",
       "  <tbody>\n",
       "  </tbody>\n",
       "</table>\n",
       "</div>"
      ],
      "text/plain": [
       "Empty DataFrame\n",
       "Columns: []\n",
       "Index: []"
      ]
     },
     "metadata": {},
     "output_type": "display_data"
    }
   ],
   "source": [
    "# ['l1','l2','rfc','gbc','bagging','adaboost','gaussiannb','decisiontree','kneighbors','sgd']\n",
    "\n",
    "gaussiannb = {'var_smoothing': 0.010}\n",
    "\n",
    "newParams = {'gaussiannb':gaussiannb}\n",
    " \n",
    "\n",
    "for name in ['gaussiannb']:\n",
    "  clf = models[name]\n",
    "  params = newParams[name]\n",
    "  clf.set_params(**params)\n",
    "  print ('Fitting ', name)\n",
    "  clf.fit(x_train, y_train)\n",
    "  score = calcScores(clf,name,params, None, x_test, y_test, runTime=None, goals=None)\n",
    "  score.printScores() \n",
    "  score.plotConfusionMatrix() \n",
    "  score.plotroc()\n",
    "  score.plotResults()\n"
   ]
  },
  {
   "cell_type": "code",
   "execution_count": null,
   "metadata": {},
   "outputs": [],
   "source": []
  }
 ],
 "metadata": {
  "_change_revision": 0,
  "_is_fork": false,
  "kernelspec": {
   "display_name": "Python 2",
   "language": "python",
   "name": "python2"
  },
  "language_info": {
   "codemirror_mode": {
    "name": "ipython",
    "version": 2
   },
   "file_extension": ".py",
   "mimetype": "text/x-python",
   "name": "python",
   "nbconvert_exporter": "python",
   "pygments_lexer": "ipython2",
   "version": "2.7.15"
  }
 },
 "nbformat": 4,
 "nbformat_minor": 1
}
